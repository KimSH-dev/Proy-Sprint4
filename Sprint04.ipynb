{
 "cells": [
  {
   "cell_type": "markdown",
   "id": "3Xg_RQfnafXz",
   "metadata": {
    "id": "3Xg_RQfnafXz"
   },
   "source": [
    "# ¡Llena ese carrito!"
   ]
  },
  {
   "cell_type": "markdown",
   "id": "mhIvmmkW414q",
   "metadata": {
    "id": "mhIvmmkW414q"
   },
   "source": [
    "# Introducción\n",
    "\n",
    "Instacart es una plataforma de entregas de comestibles donde la clientela puede registrar un pedido y hacer que se lo entreguen, similar a Uber Eats y Door Dash.\n",
    "El conjunto de datos que te hemos proporcionado tiene modificaciones del original. Redujimos el tamaño del conjunto para que tus cálculos se hicieran más rápido e introdujimos valores ausentes y duplicados. Tuvimos cuidado de conservar las distribuciones de los datos originales cuando hicimos los cambios.\n",
    "\n",
    "Debes completar tres pasos. Para cada uno de ellos, escribe una breve introducción que refleje con claridad cómo pretendes resolver cada paso, y escribe párrafos explicatorios que justifiquen tus decisiones al tiempo que avanzas en tu solución.  También escribe una conclusión que resuma tus hallazgos y elecciones.\n"
   ]
  },
  {
   "cell_type": "markdown",
   "id": "3MbyzpOQZ5Or",
   "metadata": {
    "id": "3MbyzpOQZ5Or"
   },
   "source": [
    "## Diccionario de datos\n",
    "\n",
    "Hay cinco tablas en el conjunto de datos, y tendrás que usarlas todas para hacer el preprocesamiento de datos y el análisis exploratorio de datos. A continuación se muestra un diccionario de datos que enumera las columnas de cada tabla y describe los datos que contienen.\n",
    "\n",
    "- `instacart_orders.csv`: cada fila corresponde a un pedido en la aplicación Instacart.\n",
    "    - `'order_id'`: número de ID que identifica de manera única cada pedido.\n",
    "    - `'user_id'`: número de ID que identifica de manera única la cuenta de cada cliente.\n",
    "    - `'order_number'`: el número de veces que este cliente ha hecho un pedido.\n",
    "    - `'order_dow'`: día de la semana en que se hizo el pedido (0 si es domingo).\n",
    "    - `'order_hour_of_day'`: hora del día en que se hizo el pedido.\n",
    "    - `'days_since_prior_order'`: número de días transcurridos desde que este cliente hizo su pedido anterior.\n",
    "- `products.csv`: cada fila corresponde a un producto único que pueden comprar los clientes.\n",
    "    - `'product_id'`: número ID que identifica de manera única cada producto.\n",
    "    - `'product_name'`: nombre del producto.\n",
    "    - `'aisle_id'`: número ID que identifica de manera única cada categoría de pasillo de víveres.\n",
    "    - `'department_id'`: número ID que identifica de manera única cada departamento de víveres.\n",
    "- `order_products.csv`: cada fila corresponde a un artículo pedido en un pedido.\n",
    "    - `'order_id'`: número de ID que identifica de manera única cada pedido.\n",
    "    - `'product_id'`: número ID que identifica de manera única cada producto.\n",
    "    - `'add_to_cart_order'`: el orden secuencial en el que se añadió cada artículo en el carrito.\n",
    "    - `'reordered'`: 0 si el cliente nunca ha pedido este producto antes, 1 si lo ha pedido.\n",
    "- `aisles.csv`\n",
    "    - `'aisle_id'`: número ID que identifica de manera única cada categoría de pasillo de víveres.\n",
    "    - `'aisle'`: nombre del pasillo.\n",
    "- `departments.csv`\n",
    "    - `'department_id'`: número ID que identifica de manera única cada departamento de víveres.\n",
    "    - `'department'`: nombre del departamento."
   ]
  },
  {
   "cell_type": "markdown",
   "id": "n3Ha_cNSZ8lK",
   "metadata": {
    "id": "n3Ha_cNSZ8lK"
   },
   "source": [
    "# Paso 1. Descripción de los datos\n",
    "\n",
    "Lee los archivos de datos (`/datasets/instacart_orders.csv`, `/datasets/products.csv`, `/datasets/aisles.csv`, `/datasets/departments.csv` y `/datasets/order_products.csv`) con `pd.read_csv()` usando los parámetros adecuados para leer los datos correctamente. Verifica la información para cada DataFrame creado.\n"
   ]
  },
  {
   "cell_type": "markdown",
   "id": "OmlQPLlyaAfR",
   "metadata": {
    "id": "OmlQPLlyaAfR"
   },
   "source": [
    "## Plan de solución\n",
    "\n",
    "Escribe aquí tu plan de solución para el Paso 1. Descripción de los datos.\n",
    "Revisar cada archivo de forma local para ver que parametros usar en la importacion de cada archivo"
   ]
  },
  {
   "cell_type": "code",
   "execution_count": 1,
   "id": "fbf1adab",
   "metadata": {
    "id": "fbf1adab"
   },
   "outputs": [],
   "source": [
    "# importar librerías\n",
    "import pandas as pd"
   ]
  },
  {
   "cell_type": "code",
   "execution_count": 2,
   "id": "ad36396d",
   "metadata": {
    "id": "ad36396d"
   },
   "outputs": [],
   "source": [
    "# leer conjuntos de datos en los DataFrames\n",
    "df1=pd.read_csv('/datasets/instacart_orders.csv', sep=None, engine='python')\n",
    "df2=pd.read_csv('/datasets/products.csv', sep=None, engine='python')\n",
    "df3=pd.read_csv('/datasets/aisles.csv', sep=None, engine='python')\n",
    "df4=pd.read_csv('/datasets/departments.csv', sep=None, engine='python')\n",
    "df5=pd.read_csv('/datasets/order_products.csv', sep=None, engine='python')"
   ]
  },
  {
   "cell_type": "code",
   "execution_count": 3,
   "id": "ad6a1efa",
   "metadata": {
    "id": "ad6a1efa"
   },
   "outputs": [
    {
     "name": "stdout",
     "output_type": "stream",
     "text": [
      "<class 'pandas.core.frame.DataFrame'>\n",
      "RangeIndex: 478967 entries, 0 to 478966\n",
      "Data columns (total 6 columns):\n",
      " #   Column                  Non-Null Count   Dtype  \n",
      "---  ------                  --------------   -----  \n",
      " 0   order_id                478967 non-null  int64  \n",
      " 1   user_id                 478967 non-null  int64  \n",
      " 2   order_number            478967 non-null  int64  \n",
      " 3   order_dow               478967 non-null  int64  \n",
      " 4   order_hour_of_day       478967 non-null  int64  \n",
      " 5   days_since_prior_order  450148 non-null  float64\n",
      "dtypes: float64(1), int64(5)\n",
      "memory usage: 21.9 MB\n"
     ]
    }
   ],
   "source": [
    "df1.info(show_counts=True)"
   ]
  },
  {
   "cell_type": "code",
   "execution_count": 4,
   "id": "5130e05e",
   "metadata": {
    "id": "5130e05e"
   },
   "outputs": [
    {
     "name": "stdout",
     "output_type": "stream",
     "text": [
      "<class 'pandas.core.frame.DataFrame'>\n",
      "RangeIndex: 49694 entries, 0 to 49693\n",
      "Data columns (total 4 columns):\n",
      " #   Column         Non-Null Count  Dtype \n",
      "---  ------         --------------  ----- \n",
      " 0   product_id     49694 non-null  int64 \n",
      " 1   product_name   48436 non-null  object\n",
      " 2   aisle_id       49694 non-null  int64 \n",
      " 3   department_id  49694 non-null  int64 \n",
      "dtypes: int64(3), object(1)\n",
      "memory usage: 1.5+ MB\n"
     ]
    }
   ],
   "source": [
    "df2.info(show_counts=True)"
   ]
  },
  {
   "cell_type": "code",
   "execution_count": 5,
   "id": "d8370c05",
   "metadata": {
    "id": "d8370c05"
   },
   "outputs": [
    {
     "name": "stdout",
     "output_type": "stream",
     "text": [
      "<class 'pandas.core.frame.DataFrame'>\n",
      "RangeIndex: 134 entries, 0 to 133\n",
      "Data columns (total 2 columns):\n",
      " #   Column    Non-Null Count  Dtype \n",
      "---  ------    --------------  ----- \n",
      " 0   aisle_id  134 non-null    int64 \n",
      " 1   aisle     134 non-null    object\n",
      "dtypes: int64(1), object(1)\n",
      "memory usage: 2.2+ KB\n"
     ]
    }
   ],
   "source": [
    "df3.info(show_counts=True)"
   ]
  },
  {
   "cell_type": "code",
   "execution_count": 6,
   "id": "59e2090f",
   "metadata": {
    "id": "59e2090f"
   },
   "outputs": [
    {
     "name": "stdout",
     "output_type": "stream",
     "text": [
      "<class 'pandas.core.frame.DataFrame'>\n",
      "RangeIndex: 21 entries, 0 to 20\n",
      "Data columns (total 2 columns):\n",
      " #   Column         Non-Null Count  Dtype \n",
      "---  ------         --------------  ----- \n",
      " 0   department_id  21 non-null     int64 \n",
      " 1   department     21 non-null     object\n",
      "dtypes: int64(1), object(1)\n",
      "memory usage: 464.0+ bytes\n"
     ]
    }
   ],
   "source": [
    "df4.info(show_counts=True)"
   ]
  },
  {
   "cell_type": "code",
   "execution_count": 7,
   "id": "6fc81694",
   "metadata": {
    "id": "6fc81694",
    "scrolled": true
   },
   "outputs": [
    {
     "name": "stdout",
     "output_type": "stream",
     "text": [
      "<class 'pandas.core.frame.DataFrame'>\n",
      "RangeIndex: 4545007 entries, 0 to 4545006\n",
      "Data columns (total 4 columns):\n",
      " #   Column             Non-Null Count    Dtype  \n",
      "---  ------             --------------    -----  \n",
      " 0   order_id           4545007 non-null  int64  \n",
      " 1   product_id         4545007 non-null  int64  \n",
      " 2   add_to_cart_order  4544171 non-null  float64\n",
      " 3   reordered          4545007 non-null  int64  \n",
      "dtypes: float64(1), int64(3)\n",
      "memory usage: 138.7 MB\n"
     ]
    }
   ],
   "source": [
    "df5.info(show_counts=True)"
   ]
  },
  {
   "cell_type": "markdown",
   "id": "t75BD19oaR5f",
   "metadata": {
    "id": "t75BD19oaR5f"
   },
   "source": [
    "## Conclusiones\n",
    "\n",
    "Escribe aquí tus conclusiones intermedias sobre el Paso 1. Descripción de los datos.\n",
    "Tenemos dataframes que tienen datos ausente en algunas columnas y que al ser un archivo con bastantes archivos usamos show_counts=True adicionamente en el metodo info()"
   ]
  },
  {
   "cell_type": "markdown",
   "id": "8RJHqxVmaVsF",
   "metadata": {
    "id": "8RJHqxVmaVsF"
   },
   "source": [
    "# Paso 2. Preprocesamiento de los datos\n",
    "\n",
    "Preprocesa los datos de la siguiente manera:\n",
    "\n",
    "- Verifica y corrige los tipos de datos (por ejemplo, asegúrate de que las columnas de ID sean números enteros).\n",
    "- Identifica y completa los valores ausentes.\n",
    "- Identifica y elimina los valores duplicados.\n",
    "\n",
    "Asegúrate de explicar qué tipos de valores ausentes y duplicados encontraste, cómo los completaste o eliminaste y por qué usaste esos métodos. ¿Por qué crees que estos valores ausentes y duplicados pueden haber estado presentes en el conjunto de datos?"
   ]
  },
  {
   "cell_type": "markdown",
   "id": "p6poABZQaZYb",
   "metadata": {
    "id": "p6poABZQaZYb"
   },
   "source": [
    "## Plan de solución\n",
    "\n",
    "Escribe aquí tu plan para el Paso 2. Preprocesamiento de los datos.\n",
    "Realizar la limpieza de datos elimimando los valores duplicados"
   ]
  },
  {
   "cell_type": "markdown",
   "id": "07357848-dc64-4156-9cc3-01ff4365226d",
   "metadata": {
    "id": "07357848-dc64-4156-9cc3-01ff4365226d"
   },
   "source": [
    "## Encuentra y elimina los valores duplicados (y describe cómo tomaste tus decisiones)."
   ]
  },
  {
   "cell_type": "markdown",
   "id": "f179f0a9",
   "metadata": {
    "id": "f179f0a9"
   },
   "source": [
    "### `orders` data frame"
   ]
  },
  {
   "cell_type": "code",
   "execution_count": 8,
   "id": "b99297a5-405a-463d-8535-9adc3da4ad74",
   "metadata": {
    "id": "b99297a5-405a-463d-8535-9adc3da4ad74"
   },
   "outputs": [
    {
     "name": "stdout",
     "output_type": "stream",
     "text": [
      "15\n"
     ]
    }
   ],
   "source": [
    "# Revisa si hay pedidos duplicados\n",
    "print(df1.duplicated().sum())"
   ]
  },
  {
   "cell_type": "markdown",
   "id": "PEkwUX_gvt5A",
   "metadata": {
    "id": "PEkwUX_gvt5A"
   },
   "source": [
    "¿Tienes líneas duplicadas? Si sí, ¿qué tienen en común?\n",
    "Si hay 15 filas duplicadas, los datos en tu totalidad duplicados en las filas"
   ]
  },
  {
   "cell_type": "code",
   "execution_count": 9,
   "id": "0d44de5d",
   "metadata": {
    "id": "0d44de5d"
   },
   "outputs": [
    {
     "name": "stdout",
     "output_type": "stream",
     "text": [
      "        order_id  user_id  order_number  order_dow  order_hour_of_day  \\\n",
      "4838     2766110   162084            41          3                  2   \n",
      "5156     2190225   138285            18          3                  2   \n",
      "15506     553049    58599            13          3                  2   \n",
      "18420     382357   120200            19          3                  2   \n",
      "24691     690242    77357             2          3                  2   \n",
      "...          ...      ...           ...        ...                ...   \n",
      "457013   3384021    14881             6          3                  2   \n",
      "458816    910166   164782            18          3                  2   \n",
      "459635   1680532   106435             6          3                  2   \n",
      "468324    222962    54979            59          3                  2   \n",
      "477526   2592344    46860            38          3                  2   \n",
      "\n",
      "        days_since_prior_order  \n",
      "4838                      16.0  \n",
      "5156                      11.0  \n",
      "15506                      7.0  \n",
      "18420                     11.0  \n",
      "24691                      9.0  \n",
      "...                        ...  \n",
      "457013                    30.0  \n",
      "458816                     4.0  \n",
      "459635                    21.0  \n",
      "468324                     3.0  \n",
      "477526                     3.0  \n",
      "\n",
      "[121 rows x 6 columns]\n"
     ]
    }
   ],
   "source": [
    "# Basándote en tus hallazgos,\n",
    "# Verifica todos los pedidos que se hicieron el miércoles a las 2:00 a.m.\n",
    "pedidos=df1[(df1['order_dow']==3)&(df1['order_hour_of_day']==2)]\n",
    "print(pedidos)"
   ]
  },
  {
   "cell_type": "markdown",
   "id": "vu2OWyoqwOx5",
   "metadata": {
    "id": "vu2OWyoqwOx5"
   },
   "source": [
    "¿Qué sugiere este resultado? que se realizaron 121 pedidos a las 2 de la mañana del dia miercoles"
   ]
  },
  {
   "cell_type": "code",
   "execution_count": 10,
   "id": "480563c7",
   "metadata": {
    "id": "480563c7"
   },
   "outputs": [],
   "source": [
    "# Elimina los pedidos duplicados\n",
    "df1=df1.drop_duplicates()"
   ]
  },
  {
   "cell_type": "code",
   "execution_count": 11,
   "id": "0b2396a2",
   "metadata": {
    "id": "0b2396a2"
   },
   "outputs": [
    {
     "name": "stdout",
     "output_type": "stream",
     "text": [
      "0\n"
     ]
    }
   ],
   "source": [
    "# Vuelve a verificar si hay filas duplicadas\n",
    "print(df1.duplicated().sum())"
   ]
  },
  {
   "cell_type": "code",
   "execution_count": 12,
   "id": "f6113ef1",
   "metadata": {
    "id": "f6113ef1"
   },
   "outputs": [
    {
     "name": "stdout",
     "output_type": "stream",
     "text": [
      "0\n"
     ]
    }
   ],
   "source": [
    "# Vuelve a verificar únicamente si hay IDs duplicados de pedidos\n",
    "print(df1['order_id'].duplicated().sum())"
   ]
  },
  {
   "cell_type": "markdown",
   "id": "5e8905ae",
   "metadata": {
    "id": "5e8905ae"
   },
   "source": [
    "Describe brevemente tus hallazgos y lo que hiciste con ellos\n",
    "Se identifico 15 filas completamente duplicadas en el DataFrame orders los cuales se eliminaron para limpiar los datos de la tabla"
   ]
  },
  {
   "cell_type": "markdown",
   "id": "45e6bc46",
   "metadata": {
    "id": "45e6bc46"
   },
   "source": [
    "### `products` data frame"
   ]
  },
  {
   "cell_type": "code",
   "execution_count": 13,
   "id": "5f526b5b-8175-46fa-a0fd-441767d50e64",
   "metadata": {
    "id": "5f526b5b-8175-46fa-a0fd-441767d50e64"
   },
   "outputs": [
    {
     "name": "stdout",
     "output_type": "stream",
     "text": [
      "0\n"
     ]
    }
   ],
   "source": [
    "# Verifica si hay filas totalmente duplicadas\n",
    "print(df2.duplicated().sum())"
   ]
  },
  {
   "cell_type": "code",
   "execution_count": 14,
   "id": "88daa4f4",
   "metadata": {
    "id": "88daa4f4"
   },
   "outputs": [
    {
     "name": "stdout",
     "output_type": "stream",
     "text": [
      "49673\n"
     ]
    }
   ],
   "source": [
    "# Revisa únicamente si hay ID de departamentos duplicados\n",
    "print(df2['department_id'].duplicated().sum())"
   ]
  },
  {
   "cell_type": "code",
   "execution_count": 15,
   "id": "c773f0bf",
   "metadata": {
    "id": "c773f0bf"
   },
   "outputs": [
    {
     "name": "stdout",
     "output_type": "stream",
     "text": [
      "1361\n"
     ]
    }
   ],
   "source": [
    "# Revisa únicamente si hay nombres duplicados de productos (convierte los nombres a letras mayúsculas para compararlos mejor)\n",
    "df2['product_name']=df2['product_name'].str.upper()\n",
    "print(df2['product_name'].duplicated().sum())"
   ]
  },
  {
   "cell_type": "code",
   "execution_count": 16,
   "id": "01efd02e",
   "metadata": {
    "id": "01efd02e"
   },
   "outputs": [],
   "source": [
    "# Revisa si hay nombres duplicados de productos no faltantes\n",
    "#consulta: por favor me podrian dar mas alcance de este requerimiento"
   ]
  },
  {
   "cell_type": "markdown",
   "id": "9da8d293",
   "metadata": {
    "id": "9da8d293"
   },
   "source": [
    "Describe brevemente tus hallazgos y lo que hiciste con ellos.\n",
    "Se pusieron en mayusculas el nombre de productos para comprar de mejor manera su hay nombre duplicados"
   ]
  },
  {
   "cell_type": "markdown",
   "id": "60f30db1",
   "metadata": {
    "id": "60f30db1"
   },
   "source": [
    "### `departments` data frame"
   ]
  },
  {
   "cell_type": "code",
   "execution_count": 17,
   "id": "fb410ad4-0fbf-4b80-bb09-23fdea79afe3",
   "metadata": {
    "id": "fb410ad4-0fbf-4b80-bb09-23fdea79afe3"
   },
   "outputs": [
    {
     "name": "stdout",
     "output_type": "stream",
     "text": [
      "0\n"
     ]
    }
   ],
   "source": [
    "# Revisa si hay filas totalmente duplicadas\n",
    "print(df4.duplicated().sum())"
   ]
  },
  {
   "cell_type": "code",
   "execution_count": 18,
   "id": "332b12bb",
   "metadata": {
    "id": "332b12bb"
   },
   "outputs": [
    {
     "name": "stdout",
     "output_type": "stream",
     "text": [
      "0\n"
     ]
    }
   ],
   "source": [
    "# Revisa únicamente si hay IDs duplicadas de productos\n",
    "print(df4['department_id'].duplicated().sum())"
   ]
  },
  {
   "cell_type": "markdown",
   "id": "bd30d78e",
   "metadata": {
    "id": "bd30d78e"
   },
   "source": [
    "Describe brevemente tus hallazgos y lo que hiciste con ellos.\n",
    "Al ser un dataframe que almacena los departamentos este no presenta duplicidad en datos"
   ]
  },
  {
   "cell_type": "markdown",
   "id": "889349c1",
   "metadata": {
    "id": "889349c1"
   },
   "source": [
    "### `aisles` data frame"
   ]
  },
  {
   "cell_type": "code",
   "execution_count": 19,
   "id": "9da89fb9-4679-40f5-ad0d-c34df753a3f8",
   "metadata": {
    "id": "9da89fb9-4679-40f5-ad0d-c34df753a3f8"
   },
   "outputs": [
    {
     "name": "stdout",
     "output_type": "stream",
     "text": [
      "0\n"
     ]
    }
   ],
   "source": [
    "# Revisa si hay filas totalmente duplicadas\n",
    "print(df3.duplicated().sum())"
   ]
  },
  {
   "cell_type": "code",
   "execution_count": 20,
   "id": "da7c2822",
   "metadata": {
    "id": "da7c2822"
   },
   "outputs": [
    {
     "name": "stdout",
     "output_type": "stream",
     "text": [
      "0\n"
     ]
    }
   ],
   "source": [
    "# Revisa únicamente si hay IDs duplicadas de pasillos\n",
    "print(df3['aisle_id'].duplicated().sum())"
   ]
  },
  {
   "cell_type": "markdown",
   "id": "ac63826f",
   "metadata": {
    "id": "ac63826f"
   },
   "source": [
    "Describe brevemente tus hallazgos y lo que hiciste con ellos.\n",
    "No se identifico datos duplicados en el DataFrame."
   ]
  },
  {
   "cell_type": "markdown",
   "id": "274cd06a",
   "metadata": {
    "id": "274cd06a"
   },
   "source": [
    "### `order_products` data frame"
   ]
  },
  {
   "cell_type": "code",
   "execution_count": 21,
   "id": "52326689-84a8-4b8f-a881-7c68780f62c9",
   "metadata": {
    "id": "52326689-84a8-4b8f-a881-7c68780f62c9"
   },
   "outputs": [
    {
     "name": "stdout",
     "output_type": "stream",
     "text": [
      "0\n"
     ]
    }
   ],
   "source": [
    "# Revisa si hay filas totalmente duplicadas\n",
    "print(df5.duplicated().sum())"
   ]
  },
  {
   "cell_type": "code",
   "execution_count": 22,
   "id": "7b861391",
   "metadata": {
    "id": "7b861391"
   },
   "outputs": [
    {
     "name": "stdout",
     "output_type": "stream",
     "text": [
      "4094961\n"
     ]
    }
   ],
   "source": [
    "# Vuelve a verificar si hay cualquier otro duplicado engañoso\n",
    "print(df5['order_id'].duplicated().sum())"
   ]
  },
  {
   "cell_type": "markdown",
   "id": "0b890492",
   "metadata": {
    "id": "0b890492"
   },
   "source": [
    "Describe brevemente tus hallazgos y lo que hiciste con ellos.\n",
    "No hay filas totalmente duplicadas, si hay datos duplicados en la columna order_id ya que ese el id para todos los productos que son agregados al pedido."
   ]
  },
  {
   "cell_type": "markdown",
   "id": "1e46de76",
   "metadata": {
    "id": "1e46de76"
   },
   "source": [
    "## Encuentra y elimina los valores ausentes\n",
    "\n",
    "Al trabajar con valores duplicados, pudimos observar que también nos falta investigar valores ausentes:\n",
    "\n",
    "* La columna `'product_name'` de la tabla products.\n",
    "* La columna `'days_since_prior_order'` de la tabla orders.\n",
    "* La columna `'add_to_cart_order'` de la tabla order_productos."
   ]
  },
  {
   "cell_type": "markdown",
   "id": "c0aebd78",
   "metadata": {
    "id": "c0aebd78"
   },
   "source": [
    "### `products` data frame"
   ]
  },
  {
   "cell_type": "code",
   "execution_count": 23,
   "id": "fe4a8b0f",
   "metadata": {
    "id": "fe4a8b0f"
   },
   "outputs": [
    {
     "name": "stdout",
     "output_type": "stream",
     "text": [
      "1258\n"
     ]
    }
   ],
   "source": [
    "# Encuentra los valores ausentes en la columna 'product_name'\n",
    "print(df2['product_name'].isna().sum())"
   ]
  },
  {
   "cell_type": "markdown",
   "id": "-A6x1AbJhjkp",
   "metadata": {
    "id": "-A6x1AbJhjkp"
   },
   "source": [
    "Describe brevemente cuáles son tus hallazgos.\n",
    "Se tiene 1258 datos vacio en la columna 'product_name'"
   ]
  },
  {
   "cell_type": "code",
   "execution_count": 24,
   "id": "e96167bc",
   "metadata": {
    "id": "e96167bc"
   },
   "outputs": [
    {
     "name": "stdout",
     "output_type": "stream",
     "text": [
      "[100]\n"
     ]
    }
   ],
   "source": [
    "#  ¿Todos los nombres de productos ausentes están relacionados con el pasillo con ID 100?\n",
    "print(df2[df2['product_name'].isna()]['aisle_id'].unique())"
   ]
  },
  {
   "cell_type": "markdown",
   "id": "WRpIfXRphpSL",
   "metadata": {
    "id": "WRpIfXRphpSL"
   },
   "source": [
    "Describe brevemente cuáles son tus hallazgos.\n",
    "Si, el valor que aisle_id tiene es 100 para todos los casos"
   ]
  },
  {
   "cell_type": "code",
   "execution_count": 25,
   "id": "8fd0a541",
   "metadata": {
    "id": "8fd0a541"
   },
   "outputs": [
    {
     "name": "stdout",
     "output_type": "stream",
     "text": [
      "[21]\n"
     ]
    }
   ],
   "source": [
    "# ¿Todos los nombres de productos ausentes están relacionados con el departamento con ID 21?\n",
    "print(df2[df2['product_name'].isna()]['department_id'].unique())"
   ]
  },
  {
   "cell_type": "markdown",
   "id": "qDpdYn1Fht_I",
   "metadata": {
    "id": "qDpdYn1Fht_I"
   },
   "source": [
    "Describe brevemente cuáles son tus hallazgos.\n",
    "Si, todos los datos relaciones a los productos con nombres ausentes corresponden al departamento con id 21"
   ]
  },
  {
   "cell_type": "code",
   "execution_count": 26,
   "id": "325c3464",
   "metadata": {
    "id": "325c3464"
   },
   "outputs": [
    {
     "name": "stdout",
     "output_type": "stream",
     "text": [
      "tabla department\n",
      "    department_id department\n",
      "20             21    missing\n",
      "tabla aisle\n",
      "    aisle_id    aisle\n",
      "99       100  missing\n"
     ]
    }
   ],
   "source": [
    "# Usa las tablas department y aisle para revisar los datos del pasillo con ID 100 y el departamento con ID 21.\n",
    "print('tabla department')\n",
    "print(df4[df4['department_id']==21])\n",
    "print('tabla aisle')\n",
    "print(df3[df3['aisle_id']==100])"
   ]
  },
  {
   "cell_type": "markdown",
   "id": "nqhSTUPhhvEJ",
   "metadata": {
    "id": "nqhSTUPhhvEJ"
   },
   "source": [
    "Describe brevemente cuáles son tus hallazgos.\n",
    "en ambas tablas de identifico que la descripcion de los datos en especifico estan con la denomicion 'missing'"
   ]
  },
  {
   "cell_type": "code",
   "execution_count": 27,
   "id": "6b295120",
   "metadata": {
    "id": "6b295120"
   },
   "outputs": [],
   "source": [
    "# Completa los nombres de productos ausentes con 'Unknown'\n",
    "df2['product_name'] = df2['product_name'].fillna('Unknown')"
   ]
  },
  {
   "cell_type": "markdown",
   "id": "fc70e5ad",
   "metadata": {
    "id": "fc70e5ad"
   },
   "source": [
    "Describe brevemente tus hallazgos y lo que hiciste con ellos.\n",
    "se completaron los nombre vacio con 'Unknown' y posterior a ello se valido con info() en la cual se observo que ya no hay valores ausentes"
   ]
  },
  {
   "cell_type": "markdown",
   "id": "7eb45c86",
   "metadata": {
    "id": "7eb45c86"
   },
   "source": [
    "### `orders` data frame"
   ]
  },
  {
   "cell_type": "code",
   "execution_count": 28,
   "id": "93e41d96",
   "metadata": {
    "id": "93e41d96"
   },
   "outputs": [
    {
     "name": "stdout",
     "output_type": "stream",
     "text": [
      "order_id                      0\n",
      "user_id                       0\n",
      "order_number                  0\n",
      "order_dow                     0\n",
      "order_hour_of_day             0\n",
      "days_since_prior_order    28817\n",
      "dtype: int64\n"
     ]
    }
   ],
   "source": [
    "# Encuentra los valores ausentes\n",
    "print(df1.isna().sum())"
   ]
  },
  {
   "cell_type": "code",
   "execution_count": 29,
   "id": "166e5a86",
   "metadata": {
    "id": "166e5a86"
   },
   "outputs": [],
   "source": [
    "# ¿Hay algún valor ausente que no sea el primer pedido del cliente?\n",
    "#consulta: por favor me podrian dar mas alcance de este requerimiento"
   ]
  },
  {
   "cell_type": "markdown",
   "id": "4e23d089",
   "metadata": {
    "id": "4e23d089"
   },
   "source": [
    "Describe brevemente tus hallazgos y lo que hiciste con ellos."
   ]
  },
  {
   "cell_type": "markdown",
   "id": "69dc9ca4",
   "metadata": {
    "id": "69dc9ca4"
   },
   "source": [
    "### `order_products` data frame"
   ]
  },
  {
   "cell_type": "code",
   "execution_count": 30,
   "id": "b8240253",
   "metadata": {
    "id": "b8240253"
   },
   "outputs": [
    {
     "name": "stdout",
     "output_type": "stream",
     "text": [
      "order_id               0\n",
      "product_id             0\n",
      "add_to_cart_order    836\n",
      "reordered              0\n",
      "dtype: int64\n"
     ]
    }
   ],
   "source": [
    "# Encuentra los valores ausentes\n",
    "print(df5.isna().sum())"
   ]
  },
  {
   "cell_type": "code",
   "execution_count": 31,
   "id": "9a78e5ee",
   "metadata": {
    "id": "9a78e5ee"
   },
   "outputs": [
    {
     "name": "stdout",
     "output_type": "stream",
     "text": [
      "valores maximos: 64.0\n",
      "valores minimos: 1.0\n"
     ]
    }
   ],
   "source": [
    "# ¿Cuáles son los valores mínimos y máximos en esta columna?\n",
    "print('valores maximos:',df5['add_to_cart_order'].max())\n",
    "print('valores minimos:',df5['add_to_cart_order'].min())"
   ]
  },
  {
   "cell_type": "markdown",
   "id": "-Z2Ja215jW78",
   "metadata": {
    "id": "-Z2Ja215jW78"
   },
   "source": [
    "Describe brevemente cuáles son tus hallazgos.\n",
    "como valor minimo tenemos el 1 y como valor maximo tenemos 64 que entenderiamos que seria el numero maximo de pedidos que se tuvo en un dia"
   ]
  },
  {
   "cell_type": "code",
   "execution_count": 32,
   "id": "ab9d0c2b",
   "metadata": {
    "id": "ab9d0c2b"
   },
   "outputs": [
    {
     "name": "stdout",
     "output_type": "stream",
     "text": [
      "[2449164 1968313 2926893 1717990 1959075  844733   61355  936852  264710\n",
      " 1564093  129627  293169 2849370 1386261 3308010  903110 2136777 3347453\n",
      " 1888628  165801 2094761 1038146 2997021  813364 2256933  171934 2409109\n",
      " 1730767 1169835  733526  404157 3125735  747668 1800005 1961723  871281\n",
      "  388234 1648217 1477139  102236 1021563 1832957 2721963  678116 1220886\n",
      " 1673227 2999801 1633337 2470674 2625444 1677118 2479011 3383594 1183255\n",
      " 1713430 2652650 1598369 1916118  854647 1302315  888470  180546 2621907\n",
      " 1308785 2729254    9310 2170451 2979697 1625713 1529171]\n"
     ]
    }
   ],
   "source": [
    "# Guarda todas las IDs de pedidos que tengan un valor ausente en 'add_to_cart_order'\n",
    "pedidosValAusen = df5[df5['add_to_cart_order'].isna()]['order_id'].unique()\n",
    "print(pedidosValAusen)"
   ]
  },
  {
   "cell_type": "code",
   "execution_count": 33,
   "id": "54c31695",
   "metadata": {
    "id": "54c31695"
   },
   "outputs": [
    {
     "name": "stdout",
     "output_type": "stream",
     "text": [
      "Número mínimo de productos pedidos con datos ausentes: 1\n"
     ]
    }
   ],
   "source": [
    "# ¿Todos los pedidos con valores ausentes tienen más de 64 productos?\n",
    "pedidosDatAusentes=df5[df5['add_to_cart_order'].isna()]\n",
    "# Agrupa todos los pedidos con datos ausentes por su ID de pedido.\n",
    "pedidos = pedidosDatAusentes.groupby('order_id')['product_id']\n",
    "# Cuenta el número de 'product_id' en cada pedido y revisa el valor mínimo del conteo.\n",
    "numeroPedidos=pedidos.count().min()\n",
    "print(\"Número mínimo de productos pedidos con datos ausentes:\", numeroPedidos)"
   ]
  },
  {
   "cell_type": "markdown",
   "id": "p9V6pddtjglj",
   "metadata": {
    "id": "p9V6pddtjglj"
   },
   "source": [
    "Describe brevemente cuáles son tus hallazgos.\n",
    "Tenemos que el numero minimos de productos que fueron pedidos en una orden es 1"
   ]
  },
  {
   "cell_type": "code",
   "execution_count": 34,
   "id": "7a987d08",
   "metadata": {
    "id": "7a987d08",
    "scrolled": true
   },
   "outputs": [
    {
     "name": "stdout",
     "output_type": "stream",
     "text": [
      "<class 'pandas.core.frame.DataFrame'>\n",
      "RangeIndex: 4545007 entries, 0 to 4545006\n",
      "Data columns (total 5 columns):\n",
      " #   Column             Non-Null Count    Dtype  \n",
      "---  ------             --------------    -----  \n",
      " 0   order_id           4545007 non-null  int64  \n",
      " 1   product_id         4545007 non-null  int64  \n",
      " 2   add_to_cart_order  4544171 non-null  float64\n",
      " 3   reordered          4545007 non-null  int64  \n",
      " 4   add_to_cart        4545007 non-null  int64  \n",
      "dtypes: float64(1), int64(4)\n",
      "memory usage: 173.4 MB\n"
     ]
    }
   ],
   "source": [
    "# Remplaza los valores ausentes en la columna 'add_to_cart? con 999 y convierte la columna al tipo entero.\n",
    "df5['add_to_cart'] = df5['add_to_cart_order'].fillna(999)\n",
    "df5['add_to_cart'] = df5['add_to_cart'].astype('int')\n",
    "df5.info(show_counts=True)"
   ]
  },
  {
   "cell_type": "markdown",
   "id": "fea4bcc7",
   "metadata": {
    "id": "fea4bcc7"
   },
   "source": [
    "Describe brevemente tus hallazgos y lo que hiciste con ellos.\n",
    "Se realizo el reemplazo de los valores ausentes de la columna 'add_to_cart_order' ademas de ellos se asigno ello a la columna 'add_to_cart' en la cual ya no se identifican valores ausentes y ademas los valores son de tipo entero."
   ]
  },
  {
   "cell_type": "markdown",
   "id": "RnplPFY1gSrb",
   "metadata": {
    "id": "RnplPFY1gSrb"
   },
   "source": [
    "## Conclusiones\n",
    "\n",
    "Escribe aquí tus conclusiones intermedias sobre el Paso 2. Preprocesamiento de los datos\n",
    "Se identificaron en las diferentes tablas que tenemos valores ausente y valores duplicados en su totalidad por filas los cuales fueron eliminados para tener datos limpios y de la misma forma con los valores ausentes presentes en algunas tablas se opto por asignales un valor determinado en cada tabla."
   ]
  },
  {
   "cell_type": "markdown",
   "id": "UjrOIwTcz3ri",
   "metadata": {
    "id": "UjrOIwTcz3ri"
   },
   "source": [
    "# Paso 3. Análisis de los datos\n",
    "\n",
    "Una vez los datos estén procesados y listos, haz el siguiente análisis:"
   ]
  },
  {
   "cell_type": "markdown",
   "id": "turkish-kidney",
   "metadata": {
    "id": "turkish-kidney"
   },
   "source": [
    "# [A] Fácil (deben completarse todos para aprobar)\n",
    "\n",
    "1. Verifica que los valores en las columnas `'order_hour_of_day'` y `'order_dow'` en la tabla orders sean razonables (es decir, `'order_hour_of_day'` oscile entre 0 y 23 y `'order_dow'` oscile entre 0 y 6).\n",
    "2. Crea un gráfico que muestre el número de personas que hacen pedidos dependiendo de la hora del día.\n",
    "3. Crea un gráfico que muestre qué día de la semana la gente hace sus compras.\n",
    "4. Crea un gráfico que muestre el tiempo que la gente espera hasta hacer su siguiente pedido, y comenta sobre los valores mínimos y máximos."
   ]
  },
  {
   "cell_type": "markdown",
   "id": "short-capability",
   "metadata": {
    "id": "short-capability"
   },
   "source": [
    "### [A1] Verifica que los valores sean sensibles"
   ]
  },
  {
   "cell_type": "code",
   "execution_count": 35,
   "id": "growing-fruit",
   "metadata": {
    "id": "growing-fruit"
   },
   "outputs": [
    {
     "name": "stdout",
     "output_type": "stream",
     "text": [
      "Valor minimo:  0\n",
      "Valor maximo:  23\n"
     ]
    }
   ],
   "source": [
    "print('Valor minimo: ',df1['order_hour_of_day'].min())\n",
    "print('Valor maximo: ',df1['order_hour_of_day'].max())"
   ]
  },
  {
   "cell_type": "code",
   "execution_count": 36,
   "id": "accessory-malaysia",
   "metadata": {
    "id": "accessory-malaysia"
   },
   "outputs": [
    {
     "name": "stdout",
     "output_type": "stream",
     "text": [
      "Valor minimo:  0\n",
      "Valor maximo:  6\n"
     ]
    }
   ],
   "source": [
    "print('Valor minimo: ',df1['order_dow'].min())\n",
    "print('Valor maximo: ',df1['order_dow'].max())"
   ]
  },
  {
   "cell_type": "markdown",
   "id": "hmR2GNQ6lCsX",
   "metadata": {
    "id": "hmR2GNQ6lCsX"
   },
   "source": [
    "Escribe aquí tus conclusiones\n",
    "Se observa que en ambos casos los valores estan dentro de los rangos indicados, por lo tanto si cumple."
   ]
  },
  {
   "cell_type": "markdown",
   "id": "a6743a70",
   "metadata": {
    "id": "a6743a70"
   },
   "source": [
    "### [A2] Para cada hora del día, ¿cuántas personas hacen órdenes?"
   ]
  },
  {
   "cell_type": "code",
   "execution_count": 37,
   "id": "a36cca27",
   "metadata": {
    "id": "a36cca27"
   },
   "outputs": [
    {
     "data": {
      "image/png": "[encoded data removed]",
      "text/plain": [
       "<Figure size 1000x500 with 1 Axes>"
      ]
     },
     "metadata": {},
     "output_type": "display_data"
    }
   ],
   "source": [
    "#Crea un gráfico que muestre el número de personas que hacen pedidos dependiendo de la hora del día.\n",
    "from matplotlib import pyplot as plt\n",
    "NumPers=df1.groupby('order_hour_of_day')['order_hour_of_day'].count().reset_index(name='count')\n",
    "NumPers.plot(\n",
    "    x='order_hour_of_day',\n",
    "    y='count',\n",
    "    style='*-',\n",
    "    title='Pedidos por hora del día',\n",
    "    xlabel='Horas del dia',\n",
    "    ylabel='Numero de personas',\n",
    "    grid=True,\n",
    "    xticks=range(0, 24, 1),\n",
    "    rot=90,\n",
    "    figsize=[10,5]\n",
    ")\n",
    "plt.show()\n",
    "#print(NumPers)"
   ]
  },
  {
   "cell_type": "markdown",
   "id": "11270eed",
   "metadata": {
    "id": "11270eed"
   },
   "source": [
    "Escribe aquí tus conclusiones\n",
    "Observando el gráfico puedo determinar que la hora que tiene mas pedidos es a las 10 y la hora con menos pedidos es a las 4"
   ]
  },
  {
   "cell_type": "markdown",
   "id": "documented-command",
   "metadata": {
    "id": "documented-command"
   },
   "source": [
    "### [A3] ¿Qué día de la semana compran víveres las personas?"
   ]
  },
  {
   "cell_type": "code",
   "execution_count": 38,
   "id": "chief-digit",
   "metadata": {
    "id": "chief-digit"
   },
   "outputs": [
    {
     "data": {
      "image/png": "[encoded data removed]",
      "text/plain": [
       "<Figure size 640x480 with 1 Axes>"
      ]
     },
     "metadata": {},
     "output_type": "display_data"
    }
   ],
   "source": [
    "#Crea un gráfico que muestre qué día de la semana la gente hace sus compras\n",
    "from matplotlib import pyplot as plt\n",
    "NumPers=df1.groupby('order_dow')['order_dow'].count().reset_index(name='count')\n",
    "NumPers.plot(\n",
    "    x='order_dow',\n",
    "    y='count',\n",
    "    style='*-',\n",
    "    title='Pedidos por día de la semana',\n",
    "    xlabel='Día',\n",
    "    ylabel='Numero de personas',\n",
    "    grid=True\n",
    ")\n",
    "plt.show()\n",
    "#print(NumPers)"
   ]
  },
  {
   "cell_type": "markdown",
   "id": "dominant-lightning",
   "metadata": {
    "id": "dominant-lightning"
   },
   "source": [
    "Escribe aquí tus conclusiones.\n",
    "Se observa que el dia domingo(0) es el dia que se realizan mas compras para la semana y que el dia jueves(4) es el día que menos realizan compras en la semana."
   ]
  },
  {
   "cell_type": "markdown",
   "id": "cutting-concert",
   "metadata": {
    "id": "cutting-concert"
   },
   "source": [
    "### [A4] ¿Cuánto tiempo esperan las personas hasta hacer otro pedido? Comenta sobre los valores mínimos y máximos."
   ]
  },
  {
   "cell_type": "code",
   "execution_count": 39,
   "id": "c231f523",
   "metadata": {
    "id": "c231f523",
    "scrolled": true
   },
   "outputs": [
    {
     "data": {
      "image/png": "[encoded data removed]",
      "text/plain": [
       "<Figure size 640x480 with 1 Axes>"
      ]
     },
     "metadata": {},
     "output_type": "display_data"
    }
   ],
   "source": [
    "#Crea un gráfico que muestre el tiempo que la gente espera hasta hacer su siguiente pedido, \n",
    "#y comenta sobre los valores mínimos y máximos.\n",
    "from matplotlib import pyplot as plt\n",
    "NumPers=df1.groupby('days_since_prior_order')['days_since_prior_order'].count().reset_index(name='count')\n",
    "NumPers.plot(\n",
    "    x='days_since_prior_order',\n",
    "    y='count',\n",
    "    style='*-',\n",
    "    title='Día para el proximo pedido',\n",
    "    xlabel='Días transcurridos',\n",
    "    ylabel='Numero de personas',\n",
    "    grid=True,\n",
    "    kind='bar'\n",
    ")\n",
    "plt.show()\n",
    "#print(NumPers)"
   ]
  },
  {
   "cell_type": "markdown",
   "id": "discrete-vertex",
   "metadata": {
    "id": "discrete-vertex"
   },
   "source": [
    "Escribe aquí tus conclusiones\n",
    "Se puede observar el maximo de dias esperados para realizar el siguiente pedido con 30 días y el minimo de dias esperados para realizar la siguiente compra son 26 días."
   ]
  },
  {
   "cell_type": "markdown",
   "id": "tight-staff",
   "metadata": {
    "id": "tight-staff"
   },
   "source": [
    "# [B] Intermedio (deben completarse todos para aprobar)\n",
    "\n",
    "1. ¿Existe alguna diferencia entre las distribuciones `'order_hour_of_day'` de los miércoles y los sábados? Traza gráficos de barra de `'order_hour_of_day'` para ambos días en la misma figura y describe las diferencias que observes.\n",
    "2. Grafica la distribución para el número de órdenes que hacen los clientes (es decir, cuántos clientes hicieron solo 1 pedido, cuántos hicieron 2, cuántos 3, y así sucesivamente...).\n",
    "3. ¿Cuáles son los 20 principales productos que se piden con más frecuencia (muestra su identificación y nombre)?"
   ]
  },
  {
   "cell_type": "markdown",
   "id": "packed-classic",
   "metadata": {
    "id": "packed-classic"
   },
   "source": [
    "### [B1] Diferencia entre miércoles y sábados para  `'order_hour_of_day'`. Traza gráficos de barra para los dos días y describe las diferencias que veas."
   ]
  },
  {
   "cell_type": "code",
   "execution_count": 40,
   "id": "d89b8403",
   "metadata": {
    "id": "d89b8403"
   },
   "outputs": [],
   "source": [
    "#¿Existe alguna diferencia entre las distribuciones 'order_hour_of_day' de los miércoles y los sábados? \n",
    "#Traza gráficos de barra de 'order_hour_of_day' para ambos días en la misma figura y describe las diferencias que observes.\n",
    "from matplotlib import pyplot as plt\n",
    "NumPers1=df1[df1['order_dow']==3]\n",
    "Pers1=NumPers1.groupby('order_hour_of_day')['order_dow'].count().reset_index(name='count')"
   ]
  },
  {
   "cell_type": "code",
   "execution_count": 41,
   "id": "94e54e8a",
   "metadata": {
    "id": "94e54e8a"
   },
   "outputs": [],
   "source": [
    "NumPers2=df1[df1['order_dow']==6]\n",
    "Pers2=NumPers2.groupby('order_hour_of_day')['order_dow'].count().reset_index(name='count')"
   ]
  },
  {
   "cell_type": "code",
   "execution_count": 42,
   "id": "797c90a8",
   "metadata": {
    "id": "797c90a8"
   },
   "outputs": [],
   "source": [
    "union = Pers1.merge(Pers2,on='order_hour_of_day',how='inner')"
   ]
  },
  {
   "cell_type": "code",
   "execution_count": 43,
   "id": "35bcea30",
   "metadata": {
    "id": "35bcea30"
   },
   "outputs": [
    {
     "data": {
      "image/png": "[encoded data removed]",
      "text/plain": [
       "<Figure size 640x480 with 1 Axes>"
      ]
     },
     "metadata": {},
     "output_type": "display_data"
    }
   ],
   "source": [
    "union.plot(\n",
    "    x='order_hour_of_day',\n",
    "    y=['count_x','count_y'],\n",
    "    title='Diferencia entre día miércoles y sábado',\n",
    "    xlabel='Hora del día',\n",
    "    ylabel='Cantidad',\n",
    "    kind='bar'\n",
    ")\n",
    "plt.legend(['Miércoles','Sábado'])\n",
    "plt.show()\n",
    "#print(union)"
   ]
  },
  {
   "cell_type": "raw",
   "id": "0b491662",
   "metadata": {
    "id": "charitable-congo"
   },
   "source": [
    "Escribe aquí tus conclusiones\n",
    "Se puede observar en el gráfico que día miercoles tienen menos compras entre las 11 y 17 horas con respecto a los días sabados.\n",
    "Los día miercoles tienen a las 3 tiene la menor cantidad de pedidos y a las 15 horas es el pico con mas pedidos; los días sabados la hora con menor cantidad de pedidos es a las 4 y la hora con mayor cantidad de pedidos es a las 14 horas.\n",
    "Comparando tanto las horas de menor cantidad de pedidos y la de mayor cantidad se observa que el día sabado es el de mayor compras."
   ]
  },
  {
   "cell_type": "markdown",
   "id": "e3891143",
   "metadata": {
    "id": "e3891143"
   },
   "source": [
    "### [B2] ¿Cuál es la distribución para el número de pedidos por cliente?"
   ]
  },
  {
   "cell_type": "code",
   "execution_count": 44,
   "id": "d8c26c23",
   "metadata": {
    "id": "d8c26c23"
   },
   "outputs": [],
   "source": [
    "#Grafica la distribución para el número de órdenes que hacen los clientes \n",
    "#(es decir, cuántos clientes hicieron solo 1 pedido, cuántos hicieron 2, cuántos 3, y así sucesivamente...).\n",
    "from matplotlib import pyplot as plt\n",
    "clientes=df1.groupby('order_number')['order_number'].count().reset_index(name='count')"
   ]
  },
  {
   "cell_type": "code",
   "execution_count": 45,
   "id": "00e69a66",
   "metadata": {
    "id": "00e69a66"
   },
   "outputs": [
    {
     "data": {
      "image/png": "[encoded data removed]",
      "text/plain": [
       "<Figure size 1000x500 with 1 Axes>"
      ]
     },
     "metadata": {},
     "output_type": "display_data"
    }
   ],
   "source": [
    "clientes.plot(\n",
    "    x='order_number',\n",
    "    y='count',\n",
    "    style='.-',\n",
    "    title='Números de ordenes que hacen los clientes',\n",
    "    xlabel='Número de ordenes',\n",
    "    ylabel='Cantidad',\n",
    "    xticks=range(0,101,5),\n",
    "    grid=True,\n",
    "    figsize=[10,5]\n",
    ")\n",
    "plt.legend(['Cantidad'])\n",
    "plt.show()\n",
    "#print(clientes)"
   ]
  },
  {
   "cell_type": "markdown",
   "id": "d2eff7d5",
   "metadata": {
    "id": "d2eff7d5"
   },
   "source": [
    "Escribe aquí tus conclusiones.\n",
    "Se observa que la mayoria de las personas realizan entre 1 a 4 pedidos luego va decreciendo la cantidad, tenemos como cantidad con menor numero de pedidos 100 veces."
   ]
  },
  {
   "cell_type": "markdown",
   "id": "54a0319c",
   "metadata": {
    "id": "54a0319c"
   },
   "source": [
    "### [B3] ¿Cuáles son los 20 productos más populares (muestra su ID y nombre)?"
   ]
  },
  {
   "cell_type": "code",
   "execution_count": 46,
   "id": "exterior-arizona",
   "metadata": {
    "id": "exterior-arizona",
    "scrolled": true
   },
   "outputs": [
    {
     "name": "stdout",
     "output_type": "stream",
     "text": [
      "    product_id              product_name  count\n",
      "0        24852                    BANANA  66050\n",
      "1        13176    BAG OF ORGANIC BANANAS  53297\n",
      "2        21137      ORGANIC STRAWBERRIES  37039\n",
      "3        21903      ORGANIC BABY SPINACH  33971\n",
      "4        47209      ORGANIC HASS AVOCADO  29773\n",
      "5        47766           ORGANIC AVOCADO  24689\n",
      "6        47626               LARGE LEMON  21495\n",
      "7        16797              STRAWBERRIES  20018\n",
      "8        26209                     LIMES  19690\n",
      "9        27845        ORGANIC WHOLE MILK  19600\n",
      "10       27966       ORGANIC RASPBERRIES  19197\n",
      "11       22935      ORGANIC YELLOW ONION  15898\n",
      "12       24964            ORGANIC GARLIC  15292\n",
      "13       45007          ORGANIC ZUCCHINI  14584\n",
      "14       39275       ORGANIC BLUEBERRIES  13879\n",
      "15       49683            CUCUMBER KIRBY  13675\n",
      "16       28204        ORGANIC FUJI APPLE  12544\n",
      "17        5876             ORGANIC LEMON  12232\n",
      "18        8277  APPLE HONEYCRISP ORGANIC  11993\n",
      "19       40706    ORGANIC GRAPE TOMATOES  11781\n"
     ]
    }
   ],
   "source": [
    "#¿Cuáles son los 20 principales productos que se piden con más frecuencia (muestra su identificación y nombre)?\n",
    "from matplotlib import pyplot as plt\n",
    "product_counts = df5['product_id'].value_counts().reset_index()\n",
    "product_counts.columns = ['product_id', 'count']\n",
    "union=product_counts.merge(df2,on='product_id')\n",
    "top=union[['product_id','product_name','count']].head(20)\n",
    "print(top)"
   ]
  },
  {
   "cell_type": "code",
   "execution_count": 47,
   "id": "universal-facial",
   "metadata": {
    "id": "universal-facial"
   },
   "outputs": [
    {
     "data": {
      "image/png": "[encoded data removed]",
      "text/plain": [
       "<Figure size 640x480 with 1 Axes>"
      ]
     },
     "metadata": {},
     "output_type": "display_data"
    }
   ],
   "source": [
    "top.plot(\n",
    "    x='product_name',\n",
    "    y='count',\n",
    "    style='.-',\n",
    "    title='Top de los 20 productos mas pedidos',\n",
    "    xlabel='Nombre de producto',\n",
    "    ylabel='Cantidad de productos pedidos',\n",
    "    rot=90,\n",
    "    kind='bar',\n",
    "    grid=True\n",
    ")\n",
    "plt.legend(['Cantidad'])\n",
    "plt.show()"
   ]
  },
  {
   "cell_type": "markdown",
   "id": "7df00f47",
   "metadata": {
    "id": "7df00f47"
   },
   "source": [
    "Escribe aquí tus conclusiones. El producto mas vendido en primer lugar son las 'BANANA' y el producto en la posicion 20 de los mas vendidos son las 'ORGANIC GRAPE TOMATOES'"
   ]
  },
  {
   "cell_type": "markdown",
   "id": "gross-theme",
   "metadata": {
    "id": "gross-theme"
   },
   "source": [
    "# [C] Difícil (deben completarse todos para aprobar)\n",
    "\n",
    "1. ¿Cuántos artículos suelen comprar las personas en un pedido? ¿Cómo es la distribución?\n",
    "2. ¿Cuáles son los 20 principales artículos que vuelven a pedirse con mayor frecuencia (muestra sus nombres e IDs de los productos)?\n",
    "3. Para cada producto, ¿cuál es la tasa de repetición del pedido (número de repeticiones de pedido/total de pedidos?\n",
    "4. Para cada cliente, ¿qué proporción de los productos que pidió ya los había pedido? Calcula la tasa de repetición de pedido para cada usuario en lugar de para cada producto.\n",
    "5. ¿Cuáles son los 20 principales artículos que la gente pone primero en sus carritos (muestra las IDs de los productos, sus nombres, y el número de veces en que fueron el primer artículo en añadirse al carrito)?"
   ]
  },
  {
   "cell_type": "markdown",
   "id": "romantic-deposit",
   "metadata": {
    "id": "romantic-deposit"
   },
   "source": [
    "### [C1] ¿Cuántos artículos compran normalmente las personas en un pedido? ¿Cómo es la distribución?"
   ]
  },
  {
   "cell_type": "code",
   "execution_count": 48,
   "id": "virtual-punch",
   "metadata": {
    "id": "virtual-punch"
   },
   "outputs": [],
   "source": [
    "#¿Cuántos artículos suelen comprar las personas en un pedido? ¿Cómo es la distribución?\n",
    "from matplotlib import pyplot as plt\n",
    "pedidos = df5['order_id'].value_counts().reset_index(name='conteo')\n",
    "#print(pedidos)\n",
    "#df5.info(show_counts=True)"
   ]
  },
  {
   "cell_type": "code",
   "execution_count": 49,
   "id": "sensitive-breathing",
   "metadata": {
    "id": "sensitive-breathing"
   },
   "outputs": [
    {
     "data": {
      "image/png": "[encoded data removed]",
      "text/plain": [
       "<Figure size 1000x400 with 1 Axes>"
      ]
     },
     "metadata": {},
     "output_type": "display_data"
    }
   ],
   "source": [
    "plt.figure(figsize=(10,4))\n",
    "plt.hist(pedidos['conteo'], bins=30)\n",
    "plt.title('Distribución de artículos por pedido')\n",
    "plt.xlabel('Número de artículos por pedido')\n",
    "plt.ylabel('Frecuencia')\n",
    "plt.grid(True)\n",
    "plt.show()"
   ]
  },
  {
   "cell_type": "code",
   "execution_count": null,
   "id": "completed-frank",
   "metadata": {
    "id": "completed-frank"
   },
   "outputs": [],
   "source": []
  },
  {
   "cell_type": "markdown",
   "id": "designed-mortality",
   "metadata": {
    "id": "designed-mortality"
   },
   "source": [
    "Escribe aquí tus conclusiones.\n",
    "La mayoria de las personas realiza la compra de 1 producto por pedido. "
   ]
  },
  {
   "cell_type": "markdown",
   "id": "5e6b5537",
   "metadata": {
    "id": "5e6b5537"
   },
   "source": [
    "### [C2] ¿Cuáles son los 20 principales artículos que vuelven a pedirse con mayor frecuencia (muestra sus nombres e IDs de los productos)?"
   ]
  },
  {
   "cell_type": "code",
   "execution_count": 50,
   "id": "9374e55a",
   "metadata": {
    "id": "9374e55a"
   },
   "outputs": [],
   "source": [
    "#¿Cuáles son los 20 principales artículos que vuelven a pedirse con mayor frecuencia \n",
    "#(muestra sus nombres e IDs de los productos)?"
   ]
  },
  {
   "cell_type": "code",
   "execution_count": 51,
   "id": "possible-change",
   "metadata": {
    "id": "possible-change",
    "scrolled": true
   },
   "outputs": [
    {
     "name": "stdout",
     "output_type": "stream",
     "text": [
      "                product_name  product_id\n",
      "0                     BANANA       24852\n",
      "1     BAG OF ORGANIC BANANAS       13176\n",
      "2       ORGANIC STRAWBERRIES       21137\n",
      "3       ORGANIC BABY SPINACH       21903\n",
      "4       ORGANIC HASS AVOCADO       47209\n",
      "5            ORGANIC AVOCADO       47766\n",
      "6                LARGE LEMON       47626\n",
      "7               STRAWBERRIES       16797\n",
      "8                      LIMES       26209\n",
      "9         ORGANIC WHOLE MILK       27845\n",
      "10       ORGANIC RASPBERRIES       27966\n",
      "11      ORGANIC YELLOW ONION       22935\n",
      "12            ORGANIC GARLIC       24964\n",
      "13          ORGANIC ZUCCHINI       45007\n",
      "14       ORGANIC BLUEBERRIES       39275\n",
      "15            CUCUMBER KIRBY       49683\n",
      "16        ORGANIC FUJI APPLE       28204\n",
      "17             ORGANIC LEMON        5876\n",
      "18  APPLE HONEYCRISP ORGANIC        8277\n",
      "19    ORGANIC GRAPE TOMATOES       40706\n"
     ]
    }
   ],
   "source": [
    "from matplotlib import pyplot as plt\n",
    "product_counts = df5['product_id'].value_counts().reset_index()\n",
    "product_counts.columns = ['product_id', 'count']\n",
    "union=product_counts.merge(df2,on='product_id')\n",
    "top=union[['product_name','product_id']].head(20)\n",
    "print(top)"
   ]
  },
  {
   "cell_type": "markdown",
   "id": "80e70c74",
   "metadata": {
    "id": "80e70c74"
   },
   "source": [
    "Escribe aquí tus conclusiones.\n",
    "Se observa que el producto más pedido son las 'BANANA'"
   ]
  },
  {
   "cell_type": "markdown",
   "id": "9d312b14",
   "metadata": {
    "id": "9d312b14"
   },
   "source": [
    "### [C3] Para cada producto, ¿cuál es la proporción de las veces que se pide y que se vuelve a pedir?"
   ]
  },
  {
   "cell_type": "code",
   "execution_count": 52,
   "id": "8ae9f4b1",
   "metadata": {
    "id": "8ae9f4b1"
   },
   "outputs": [],
   "source": [
    "#Para cada producto, ¿cuál es la tasa de repetición del pedido (número de repeticiones de pedido/total de pedidos?"
   ]
  },
  {
   "cell_type": "code",
   "execution_count": 53,
   "id": "103e7fe1",
   "metadata": {
    "id": "103e7fe1"
   },
   "outputs": [],
   "source": [
    "totalproducto=df5.groupby('product_id')['reordered'].count().reset_index(name='total_pedidos')\n",
    "pedidoRepetido=df5[df5['reordered']==1].groupby('product_id')['reordered'].count().reset_index(name='reordenados')\n",
    "union=totalproducto.merge(pedidoRepetido,on='product_id')"
   ]
  },
  {
   "cell_type": "code",
   "execution_count": 54,
   "id": "social-individual",
   "metadata": {
    "id": "social-individual"
   },
   "outputs": [
    {
     "name": "stdout",
     "output_type": "stream",
     "text": [
      "       product_id  total_pedidos  reordenados  repeticion\n",
      "0               1            280          158    0.564286\n",
      "1               3             42           31    0.738095\n",
      "2               4             49           25    0.510204\n",
      "3               7              2            1    0.500000\n",
      "4               8             19            6    0.315789\n",
      "...           ...            ...          ...         ...\n",
      "36223       49690              5            4    0.800000\n",
      "36224       49691             72           31    0.430556\n",
      "36225       49692             12            5    0.416667\n",
      "36226       49693             25           11    0.440000\n",
      "36227       49694              9            3    0.333333\n",
      "\n",
      "[36228 rows x 4 columns]\n"
     ]
    }
   ],
   "source": [
    "union['repeticion']=union['reordenados']/union['total_pedidos']\n",
    "print(union)"
   ]
  },
  {
   "cell_type": "markdown",
   "id": "I10dEIAyldcO",
   "metadata": {
    "id": "I10dEIAyldcO"
   },
   "source": [
    "Escribe aquí tus conclusiones.\n",
    "Se realizo el calculo según lo indicado con numero de repeticiones en referencia al total de pedido por cada uno de ellos."
   ]
  },
  {
   "cell_type": "markdown",
   "id": "subject-boxing",
   "metadata": {
    "id": "subject-boxing"
   },
   "source": [
    "### [C4] Para cada cliente, ¿qué proporción de sus productos ya los había pedido?"
   ]
  },
  {
   "cell_type": "code",
   "execution_count": 55,
   "id": "medical-couple",
   "metadata": {
    "id": "medical-couple",
    "scrolled": true
   },
   "outputs": [],
   "source": [
    "#Para cada cliente, ¿qué proporción de los productos que pidió ya los había pedido? \n",
    "#Calcula la tasa de repetición de pedido para cada usuario en lugar de para cada producto."
   ]
  },
  {
   "cell_type": "code",
   "execution_count": 56,
   "id": "8892e4b4",
   "metadata": {
    "id": "8892e4b4"
   },
   "outputs": [
    {
     "name": "stdout",
     "output_type": "stream",
     "text": [
      "        user_id  total_pedidos  reordenados  repeticion\n",
      "0             2             26            1    0.038462\n",
      "1             5             12            8    0.666667\n",
      "2             7             14           13    0.928571\n",
      "3            11             15            3    0.200000\n",
      "4            12             12            3    0.250000\n",
      "...         ...            ...          ...         ...\n",
      "132986   206203             27            6    0.222222\n",
      "132987   206206             21           15    0.714286\n",
      "132988   206207             46           41    0.891304\n",
      "132989   206208            125           87    0.696000\n",
      "132990   206209             25            8    0.320000\n",
      "\n",
      "[132991 rows x 4 columns]\n"
     ]
    }
   ],
   "source": [
    "unionprim=df1.merge(df5,on='order_id')\n",
    "unionprim=unionprim[['user_id','reordered']]\n",
    "#print(unionprim)\n",
    "totalproducto=unionprim.groupby('user_id')['reordered'].count().reset_index(name='total_pedidos')\n",
    "pedidoRepetido=unionprim[unionprim['reordered']==1].groupby('user_id')['reordered'].count().reset_index(name='reordenados')\n",
    "union=totalproducto.merge(pedidoRepetido,on='user_id')\n",
    "union['repeticion']=union['reordenados']/union['total_pedidos']\n",
    "print(union)"
   ]
  },
  {
   "cell_type": "markdown",
   "id": "BgJSvXDsleXz",
   "metadata": {
    "id": "BgJSvXDsleXz"
   },
   "source": [
    "Escribe aquí tus conclusiones.\n",
    "Se realizo el calculo de la proporcion de los pedidos repetidos con relacion al total de pedido realizados por cada usuario."
   ]
  },
  {
   "cell_type": "markdown",
   "id": "92d35137",
   "metadata": {
    "id": "92d35137"
   },
   "source": [
    "### [C5] ¿Cuáles son los 20 principales artículos que las personas ponen primero en sus carritos?"
   ]
  },
  {
   "cell_type": "code",
   "execution_count": 57,
   "id": "0ae57274",
   "metadata": {
    "id": "0ae57274",
    "scrolled": true
   },
   "outputs": [],
   "source": [
    "#¿Cuáles son los 20 principales artículos que la gente pone primero en sus carritos \n",
    "#(muestra las IDs de los productos, sus nombres, y el número de veces en que fueron el primer artículo en añadirse al carrito)?"
   ]
  },
  {
   "cell_type": "code",
   "execution_count": 58,
   "id": "forty-netherlands",
   "metadata": {
    "id": "forty-netherlands",
    "scrolled": true
   },
   "outputs": [
    {
     "name": "stdout",
     "output_type": "stream",
     "text": [
      "    product_id                 product_name  count\n",
      "0        24852                       BANANA  15562\n",
      "1        13176       BAG OF ORGANIC BANANAS  11026\n",
      "2        27845           ORGANIC WHOLE MILK   4363\n",
      "3        21137         ORGANIC STRAWBERRIES   3946\n",
      "4        47209         ORGANIC HASS AVOCADO   3390\n",
      "5        21903         ORGANIC BABY SPINACH   3336\n",
      "6        47766              ORGANIC AVOCADO   3044\n",
      "7        19660                 SPRING WATER   2336\n",
      "8        16797                 STRAWBERRIES   2308\n",
      "9        27966          ORGANIC RASPBERRIES   2024\n",
      "10       44632   SPARKLING WATER GRAPEFRUIT   1914\n",
      "11       49235          ORGANIC HALF & HALF   1797\n",
      "12       47626                  LARGE LEMON   1737\n",
      "13         196                         SODA   1733\n",
      "14       38689     ORGANIC REDUCED FAT MILK   1397\n",
      "15       26209                        LIMES   1370\n",
      "16       12341                HASS AVOCADOS   1340\n",
      "17        5785  ORGANIC REDUCED FAT 2% MILK   1310\n",
      "18       27086                  HALF & HALF   1309\n",
      "19       22935         ORGANIC YELLOW ONION   1246\n"
     ]
    }
   ],
   "source": [
    "from matplotlib import pyplot as plt\n",
    "df5_1=df5[df5['add_to_cart_order']==1]\n",
    "product_counts = df5_1['product_id'].value_counts().reset_index()\n",
    "product_counts.columns = ['product_id', 'count']\n",
    "union=product_counts.merge(df2,on='product_id')\n",
    "top=union[['product_id','product_name','count']].head(20)\n",
    "print(top)"
   ]
  },
  {
   "cell_type": "markdown",
   "id": "28ce9872",
   "metadata": {
    "id": "28ce9872"
   },
   "source": [
    "Escribe aquí tus conclusiones. \n",
    "Se observa que los 2 productos mas pedidos son la 'BANANA' y la 'BAG OF ORGANIC BANANAS' llevando por bastante cantidad co respecto al 3er producto mas pedido, ademas se puso observar que con referencia al top de 20 producto mas pedidos en general hay producto que no estaban dentro del top general y si aparecen ahora considerando que son los primeros productos en agregarse a un pedido."
   ]
  },
  {
   "cell_type": "markdown",
   "id": "uITbFCEoDosC",
   "metadata": {
    "id": "uITbFCEoDosC"
   },
   "source": [
    "### Conclusion general del proyecto:"
   ]
  },
  {
   "cell_type": "markdown",
   "id": "006e03db",
   "metadata": {
    "id": "Nk-4GS7mDwqY"
   },
   "source": [
    "Se pudo observar la gran cantidad de datos que manejanos en este proyecto el cual me llevo un poco mas a ver como las tablas se podrian relacionar entre si para poder relacionar todos los datos entre si y poder explorar y sacar conclusiones con respecto a las extracciones de datos filtrados. El manejo de gráficas ayuda a interpretar e forma mas rapida la evolucion de los datos en diferentes situaciones."
   ]
  }
 ],
 "metadata": {
  "ExecuteTimeLog": [
   {
    "duration": 303,
    "start_time": "2025-04-14T16:49:28.366Z"
   },
   {
    "duration": 176,
    "start_time": "2025-04-14T16:49:30.038Z"
   },
   {
    "duration": 2060,
    "start_time": "2025-04-14T16:50:09.509Z"
   },
   {
    "duration": 22,
    "start_time": "2025-04-14T16:50:37.709Z"
   },
   {
    "duration": 1987,
    "start_time": "2025-04-14T16:53:26.726Z"
   },
   {
    "duration": 20,
    "start_time": "2025-04-14T16:53:28.958Z"
   },
   {
    "duration": 3965,
    "start_time": "2025-04-14T16:57:26.567Z"
   },
   {
    "duration": 2408,
    "start_time": "2025-04-14T16:57:59.536Z"
   },
   {
    "duration": 3802,
    "start_time": "2025-04-14T16:58:23.759Z"
   },
   {
    "duration": 9,
    "start_time": "2025-04-14T16:58:27.563Z"
   },
   {
    "duration": 15951,
    "start_time": "2025-04-14T16:58:44.593Z"
   },
   {
    "duration": 10,
    "start_time": "2025-04-14T16:59:00.546Z"
   },
   {
    "duration": 10,
    "start_time": "2025-04-14T16:59:04.887Z"
   },
   {
    "duration": 8,
    "start_time": "2025-04-14T16:59:07.696Z"
   },
   {
    "duration": 9,
    "start_time": "2025-04-14T16:59:10.287Z"
   },
   {
    "duration": 7,
    "start_time": "2025-04-14T16:59:12.367Z"
   },
   {
    "duration": 6,
    "start_time": "2025-04-14T17:00:32.320Z"
   },
   {
    "duration": 12,
    "start_time": "2025-04-14T17:03:13.849Z"
   },
   {
    "duration": 10,
    "start_time": "2025-04-14T17:03:25.745Z"
   },
   {
    "duration": 10,
    "start_time": "2025-04-14T17:03:25.803Z"
   },
   {
    "duration": 10,
    "start_time": "2025-04-14T17:03:51.202Z"
   },
   {
    "duration": 10,
    "start_time": "2025-04-14T17:03:53.425Z"
   },
   {
    "duration": 9,
    "start_time": "2025-04-14T17:03:56.329Z"
   },
   {
    "duration": 8,
    "start_time": "2025-04-14T17:03:59.817Z"
   },
   {
    "duration": 23,
    "start_time": "2025-04-14T17:04:05.041Z"
   },
   {
    "duration": 160,
    "start_time": "2025-04-14T18:44:26.715Z"
   },
   {
    "duration": 295,
    "start_time": "2025-04-14T18:44:34.220Z"
   },
   {
    "duration": 15565,
    "start_time": "2025-04-14T18:44:38.144Z"
   },
   {
    "duration": 11,
    "start_time": "2025-04-14T18:44:53.710Z"
   },
   {
    "duration": 12,
    "start_time": "2025-04-14T18:44:57.603Z"
   },
   {
    "duration": 9,
    "start_time": "2025-04-14T18:44:59.955Z"
   },
   {
    "duration": 9,
    "start_time": "2025-04-14T18:45:02.185Z"
   },
   {
    "duration": 20,
    "start_time": "2025-04-14T18:45:04.411Z"
   },
   {
    "duration": 35,
    "start_time": "2025-04-14T18:45:07.537Z"
   },
   {
    "duration": 74,
    "start_time": "2025-04-14T18:45:17.983Z"
   },
   {
    "duration": 129,
    "start_time": "2025-04-14T18:51:00.218Z"
   },
   {
    "duration": 7,
    "start_time": "2025-04-14T18:56:36.301Z"
   },
   {
    "duration": 6,
    "start_time": "2025-04-14T18:56:40.744Z"
   },
   {
    "duration": 4,
    "start_time": "2025-04-14T18:57:17.866Z"
   },
   {
    "duration": 78,
    "start_time": "2025-04-14T19:00:59.257Z"
   },
   {
    "duration": 13,
    "start_time": "2025-04-14T19:01:08.931Z"
   },
   {
    "duration": 13,
    "start_time": "2025-04-14T19:01:30.530Z"
   },
   {
    "duration": 12,
    "start_time": "2025-04-14T19:01:50.435Z"
   },
   {
    "duration": 13,
    "start_time": "2025-04-14T19:02:02.147Z"
   },
   {
    "duration": 3,
    "start_time": "2025-04-14T19:02:12.857Z"
   },
   {
    "duration": 16094,
    "start_time": "2025-04-14T19:02:14.720Z"
   },
   {
    "duration": 2,
    "start_time": "2025-04-14T19:02:49.880Z"
   },
   {
    "duration": 15545,
    "start_time": "2025-04-14T19:02:51.488Z"
   },
   {
    "duration": 11,
    "start_time": "2025-04-14T19:03:08.655Z"
   },
   {
    "duration": 10,
    "start_time": "2025-04-14T19:03:10.065Z"
   },
   {
    "duration": 11,
    "start_time": "2025-04-14T19:03:11.400Z"
   },
   {
    "duration": 8,
    "start_time": "2025-04-14T19:03:12.764Z"
   },
   {
    "duration": 25,
    "start_time": "2025-04-14T19:03:17.247Z"
   },
   {
    "duration": 80,
    "start_time": "2025-04-14T19:03:22.329Z"
   },
   {
    "duration": 7,
    "start_time": "2025-04-14T19:03:25.443Z"
   },
   {
    "duration": 106,
    "start_time": "2025-04-14T19:03:28.523Z"
   },
   {
    "duration": 12,
    "start_time": "2025-04-14T19:03:31.066Z"
   },
   {
    "duration": 12,
    "start_time": "2025-04-14T19:03:41.697Z"
   },
   {
    "duration": 12,
    "start_time": "2025-04-14T19:04:04.365Z"
   },
   {
    "duration": 12,
    "start_time": "2025-04-14T19:04:13.804Z"
   },
   {
    "duration": 2,
    "start_time": "2025-04-14T19:04:19.701Z"
   },
   {
    "duration": 2,
    "start_time": "2025-04-14T19:04:19.731Z"
   },
   {
    "duration": 12,
    "start_time": "2025-04-14T19:04:30.020Z"
   },
   {
    "duration": 2,
    "start_time": "2025-04-14T19:06:11.908Z"
   },
   {
    "duration": 15330,
    "start_time": "2025-04-14T19:06:15.162Z"
   },
   {
    "duration": 11,
    "start_time": "2025-04-14T19:06:30.495Z"
   },
   {
    "duration": 11,
    "start_time": "2025-04-14T19:06:34.767Z"
   },
   {
    "duration": 9,
    "start_time": "2025-04-14T19:06:35.957Z"
   },
   {
    "duration": 9,
    "start_time": "2025-04-14T19:06:38.496Z"
   },
   {
    "duration": 23,
    "start_time": "2025-04-14T19:06:39.343Z"
   },
   {
    "duration": 78,
    "start_time": "2025-04-14T19:06:42.815Z"
   },
   {
    "duration": 9,
    "start_time": "2025-04-14T19:06:45.707Z"
   },
   {
    "duration": 98,
    "start_time": "2025-04-14T19:06:48.556Z"
   },
   {
    "duration": 82,
    "start_time": "2025-04-14T19:06:50.388Z"
   },
   {
    "duration": 23,
    "start_time": "2025-04-14T19:07:33.027Z"
   },
   {
    "duration": 15,
    "start_time": "2025-04-14T19:10:19.923Z"
   },
   {
    "duration": 4,
    "start_time": "2025-04-14T19:10:50.251Z"
   },
   {
    "duration": 7,
    "start_time": "2025-04-14T19:11:14.410Z"
   },
   {
    "duration": 14,
    "start_time": "2025-04-14T19:12:21.695Z"
   },
   {
    "duration": 20,
    "start_time": "2025-04-14T19:14:54.723Z"
   },
   {
    "duration": 276,
    "start_time": "2025-04-15T15:51:40.088Z"
   },
   {
    "duration": 15402,
    "start_time": "2025-04-15T15:51:41.408Z"
   },
   {
    "duration": 12,
    "start_time": "2025-04-15T15:51:56.813Z"
   },
   {
    "duration": 10,
    "start_time": "2025-04-15T15:51:56.827Z"
   },
   {
    "duration": 8,
    "start_time": "2025-04-15T15:51:56.838Z"
   },
   {
    "duration": 7,
    "start_time": "2025-04-15T15:51:56.848Z"
   },
   {
    "duration": 20,
    "start_time": "2025-04-15T15:51:56.857Z"
   },
   {
    "duration": 72,
    "start_time": "2025-04-15T15:52:03.066Z"
   },
   {
    "duration": 9,
    "start_time": "2025-04-15T15:52:05.539Z"
   },
   {
    "duration": 79,
    "start_time": "2025-04-15T15:52:08.925Z"
   },
   {
    "duration": 70,
    "start_time": "2025-04-15T15:52:10.474Z"
   },
   {
    "duration": 26,
    "start_time": "2025-04-15T15:52:11.494Z"
   },
   {
    "duration": 13,
    "start_time": "2025-04-15T15:52:16.370Z"
   },
   {
    "duration": 3,
    "start_time": "2025-04-15T15:52:17.890Z"
   },
   {
    "duration": 21,
    "start_time": "2025-04-15T15:52:19.086Z"
   },
   {
    "duration": 4,
    "start_time": "2025-04-15T15:58:47.691Z"
   },
   {
    "duration": 533,
    "start_time": "2025-04-15T16:00:08.916Z"
   },
   {
    "duration": 3,
    "start_time": "2025-04-15T16:00:22.638Z"
   },
   {
    "duration": 4,
    "start_time": "2025-04-15T16:01:17.845Z"
   },
   {
    "duration": 3,
    "start_time": "2025-04-15T16:02:24.708Z"
   },
   {
    "duration": 679,
    "start_time": "2025-04-15T16:46:43.000Z"
   },
   {
    "duration": 54,
    "start_time": "2025-04-15T16:47:21.351Z"
   },
   {
    "duration": 13,
    "start_time": "2025-04-15T16:58:27.931Z"
   },
   {
    "duration": 14,
    "start_time": "2025-04-15T16:58:37.586Z"
   },
   {
    "duration": 13,
    "start_time": "2025-04-15T17:00:11.521Z"
   },
   {
    "duration": 19,
    "start_time": "2025-04-15T17:00:42.692Z"
   },
   {
    "duration": 25,
    "start_time": "2025-04-15T17:01:34.106Z"
   },
   {
    "duration": 24,
    "start_time": "2025-04-15T17:01:54.874Z"
   },
   {
    "duration": 27,
    "start_time": "2025-04-15T17:01:59.851Z"
   },
   {
    "duration": 8,
    "start_time": "2025-04-15T17:03:23.946Z"
   },
   {
    "duration": 8,
    "start_time": "2025-04-15T17:03:35.515Z"
   },
   {
    "duration": 7,
    "start_time": "2025-04-15T17:06:26.075Z"
   },
   {
    "duration": 6,
    "start_time": "2025-04-15T17:06:33.556Z"
   },
   {
    "duration": 8,
    "start_time": "2025-04-15T17:06:49.017Z"
   },
   {
    "duration": 3,
    "start_time": "2025-04-15T17:08:23.844Z"
   },
   {
    "duration": 58,
    "start_time": "2025-04-15T17:08:44.077Z"
   },
   {
    "duration": 39,
    "start_time": "2025-04-15T17:09:05.683Z"
   },
   {
    "duration": 6,
    "start_time": "2025-04-15T17:09:13.252Z"
   },
   {
    "duration": 6,
    "start_time": "2025-04-15T17:09:17.486Z"
   },
   {
    "duration": 12,
    "start_time": "2025-04-15T17:10:07.212Z"
   },
   {
    "duration": 13,
    "start_time": "2025-04-15T17:10:23.819Z"
   },
   {
    "duration": 11,
    "start_time": "2025-04-15T17:11:10.582Z"
   },
   {
    "duration": 43,
    "start_time": "2025-04-15T17:11:49.796Z"
   },
   {
    "duration": 11,
    "start_time": "2025-04-15T17:12:13.877Z"
   },
   {
    "duration": 8,
    "start_time": "2025-04-15T17:12:34.071Z"
   },
   {
    "duration": 5,
    "start_time": "2025-04-15T17:12:55.715Z"
   },
   {
    "duration": 6,
    "start_time": "2025-04-15T17:12:59.813Z"
   },
   {
    "duration": 6,
    "start_time": "2025-04-15T17:13:31.356Z"
   },
   {
    "duration": 14,
    "start_time": "2025-04-15T17:55:53.913Z"
   },
   {
    "duration": 15,
    "start_time": "2025-04-15T17:55:57.875Z"
   },
   {
    "duration": 16,
    "start_time": "2025-04-15T17:56:05.552Z"
   },
   {
    "duration": 5,
    "start_time": "2025-04-15T17:56:13.864Z"
   },
   {
    "duration": 8,
    "start_time": "2025-04-15T17:57:26.106Z"
   },
   {
    "duration": 8,
    "start_time": "2025-04-15T17:57:36.491Z"
   },
   {
    "duration": 7,
    "start_time": "2025-04-15T17:57:47.330Z"
   },
   {
    "duration": 7,
    "start_time": "2025-04-15T17:58:29.546Z"
   },
   {
    "duration": 5,
    "start_time": "2025-04-15T18:57:22.778Z"
   },
   {
    "duration": 18,
    "start_time": "2025-04-15T18:57:38.925Z"
   },
   {
    "duration": 5,
    "start_time": "2025-04-15T18:57:53.587Z"
   },
   {
    "duration": 15,
    "start_time": "2025-04-15T18:59:18.294Z"
   },
   {
    "duration": 164,
    "start_time": "2025-04-15T21:45:23.170Z"
   },
   {
    "duration": 305,
    "start_time": "2025-04-15T21:45:34.027Z"
   },
   {
    "duration": 15600,
    "start_time": "2025-04-15T21:45:38.561Z"
   },
   {
    "duration": 13,
    "start_time": "2025-04-15T21:45:54.163Z"
   },
   {
    "duration": 11,
    "start_time": "2025-04-15T21:45:54.178Z"
   },
   {
    "duration": 7,
    "start_time": "2025-04-15T21:45:54.191Z"
   },
   {
    "duration": 8,
    "start_time": "2025-04-15T21:45:54.199Z"
   },
   {
    "duration": 21,
    "start_time": "2025-04-15T21:45:54.209Z"
   },
   {
    "duration": 73,
    "start_time": "2025-04-15T21:47:01.698Z"
   },
   {
    "duration": 13,
    "start_time": "2025-04-15T21:47:04.994Z"
   },
   {
    "duration": 80,
    "start_time": "2025-04-15T21:47:08.265Z"
   },
   {
    "duration": 70,
    "start_time": "2025-04-15T21:47:09.539Z"
   },
   {
    "duration": 24,
    "start_time": "2025-04-15T21:47:10.381Z"
   },
   {
    "duration": 13,
    "start_time": "2025-04-15T21:47:13.815Z"
   },
   {
    "duration": 3,
    "start_time": "2025-04-15T21:47:23.876Z"
   },
   {
    "duration": 20,
    "start_time": "2025-04-15T21:47:26.464Z"
   },
   {
    "duration": 3,
    "start_time": "2025-04-15T21:47:30.810Z"
   },
   {
    "duration": 3,
    "start_time": "2025-04-15T21:47:33.051Z"
   },
   {
    "duration": 4,
    "start_time": "2025-04-15T21:47:36.599Z"
   },
   {
    "duration": 3,
    "start_time": "2025-04-15T21:47:37.636Z"
   },
   {
    "duration": 751,
    "start_time": "2025-04-15T21:47:42.592Z"
   },
   {
    "duration": 76,
    "start_time": "2025-04-15T21:47:45.091Z"
   },
   {
    "duration": 5,
    "start_time": "2025-04-15T21:47:53.280Z"
   },
   {
    "duration": 6,
    "start_time": "2025-04-15T21:47:58.312Z"
   },
   {
    "duration": 7,
    "start_time": "2025-04-15T21:48:00.472Z"
   },
   {
    "duration": 6,
    "start_time": "2025-04-15T21:48:03.088Z"
   },
   {
    "duration": 6,
    "start_time": "2025-04-15T21:48:05.832Z"
   },
   {
    "duration": 6,
    "start_time": "2025-04-15T21:48:13.161Z"
   },
   {
    "duration": 320,
    "start_time": "2025-04-16T03:17:16.007Z"
   },
   {
    "duration": 15860,
    "start_time": "2025-04-16T03:17:18.317Z"
   },
   {
    "duration": 11,
    "start_time": "2025-04-16T03:17:34.181Z"
   },
   {
    "duration": 11,
    "start_time": "2025-04-16T03:17:34.194Z"
   },
   {
    "duration": 8,
    "start_time": "2025-04-16T03:17:34.208Z"
   },
   {
    "duration": 8,
    "start_time": "2025-04-16T03:17:34.218Z"
   },
   {
    "duration": 57,
    "start_time": "2025-04-16T03:17:34.228Z"
   },
   {
    "duration": 73,
    "start_time": "2025-04-16T03:17:38.805Z"
   },
   {
    "duration": 11,
    "start_time": "2025-04-16T03:17:42.561Z"
   },
   {
    "duration": 84,
    "start_time": "2025-04-16T03:17:45.227Z"
   },
   {
    "duration": 70,
    "start_time": "2025-04-16T03:17:46.615Z"
   },
   {
    "duration": 24,
    "start_time": "2025-04-16T03:17:47.856Z"
   },
   {
    "duration": 13,
    "start_time": "2025-04-16T03:17:50.794Z"
   },
   {
    "duration": 3,
    "start_time": "2025-04-16T03:17:51.579Z"
   },
   {
    "duration": 19,
    "start_time": "2025-04-16T03:17:52.442Z"
   },
   {
    "duration": 4,
    "start_time": "2025-04-16T03:17:55.635Z"
   },
   {
    "duration": 3,
    "start_time": "2025-04-16T03:17:56.541Z"
   },
   {
    "duration": 6,
    "start_time": "2025-04-16T03:17:59.713Z"
   },
   {
    "duration": 3,
    "start_time": "2025-04-16T03:18:00.337Z"
   },
   {
    "duration": 739,
    "start_time": "2025-04-16T03:18:02.808Z"
   },
   {
    "duration": 75,
    "start_time": "2025-04-16T03:18:03.641Z"
   },
   {
    "duration": 6,
    "start_time": "2025-04-16T03:18:08.322Z"
   },
   {
    "duration": 6,
    "start_time": "2025-04-16T03:18:10.761Z"
   },
   {
    "duration": 6,
    "start_time": "2025-04-16T03:18:13.397Z"
   },
   {
    "duration": 8,
    "start_time": "2025-04-16T03:18:16.803Z"
   },
   {
    "duration": 6,
    "start_time": "2025-04-16T03:18:34.755Z"
   },
   {
    "duration": 15,
    "start_time": "2025-04-16T03:20:09.105Z"
   },
   {
    "duration": 169,
    "start_time": "2025-04-16T03:21:36.101Z"
   },
   {
    "duration": 56,
    "start_time": "2025-04-16T03:21:42.756Z"
   },
   {
    "duration": 53,
    "start_time": "2025-04-16T03:22:16.201Z"
   },
   {
    "duration": 35,
    "start_time": "2025-04-16T03:28:56.130Z"
   },
   {
    "duration": 35,
    "start_time": "2025-04-16T03:29:28.665Z"
   },
   {
    "duration": 337,
    "start_time": "2025-04-16T03:32:40.776Z"
   },
   {
    "duration": 12,
    "start_time": "2025-04-16T03:32:53.349Z"
   },
   {
    "duration": 7,
    "start_time": "2025-04-16T03:48:08.037Z"
   },
   {
    "duration": 8,
    "start_time": "2025-04-16T04:00:38.619Z"
   },
   {
    "duration": 19,
    "start_time": "2025-04-16T04:03:32.329Z"
   },
   {
    "duration": 19,
    "start_time": "2025-04-16T04:03:53.329Z"
   },
   {
    "duration": 7,
    "start_time": "2025-04-16T04:04:17.705Z"
   },
   {
    "duration": 38,
    "start_time": "2025-04-16T04:06:25.033Z"
   },
   {
    "duration": 566,
    "start_time": "2025-04-16T04:07:19.273Z"
   },
   {
    "duration": 40,
    "start_time": "2025-04-16T04:09:18.786Z"
   },
   {
    "duration": 75,
    "start_time": "2025-04-16T04:11:10.178Z"
   },
   {
    "duration": 3,
    "start_time": "2025-04-16T04:20:05.818Z"
   },
   {
    "duration": 3,
    "start_time": "2025-04-16T04:20:08.619Z"
   },
   {
    "duration": 1879,
    "start_time": "2025-04-16T04:28:17.614Z"
   },
   {
    "duration": 274,
    "start_time": "2025-04-16T04:29:40.386Z"
   },
   {
    "duration": 12,
    "start_time": "2025-04-16T04:29:54.539Z"
   },
   {
    "duration": 11,
    "start_time": "2025-04-16T04:29:58.900Z"
   },
   {
    "duration": 6,
    "start_time": "2025-04-16T04:30:28.050Z"
   },
   {
    "duration": 90,
    "start_time": "2025-04-16T04:32:00.455Z"
   },
   {
    "duration": 9,
    "start_time": "2025-04-16T04:33:08.910Z"
   },
   {
    "duration": 19,
    "start_time": "2025-04-16T04:35:29.458Z"
   },
   {
    "duration": 9,
    "start_time": "2025-04-16T04:36:18.649Z"
   },
   {
    "duration": 187,
    "start_time": "2025-04-16T04:41:56.654Z"
   },
   {
    "duration": 44,
    "start_time": "2025-04-16T04:42:33.098Z"
   },
   {
    "duration": 8,
    "start_time": "2025-04-16T04:43:33.116Z"
   },
   {
    "duration": 11,
    "start_time": "2025-04-16T04:47:06.962Z"
   },
   {
    "duration": 9,
    "start_time": "2025-04-16T04:48:19.354Z"
   },
   {
    "duration": 127,
    "start_time": "2025-04-16T04:50:35.823Z"
   },
   {
    "duration": 116,
    "start_time": "2025-04-16T04:51:36.448Z"
   },
   {
    "duration": 6,
    "start_time": "2025-04-16T04:52:07.485Z"
   },
   {
    "duration": 115,
    "start_time": "2025-04-16T04:52:12.753Z"
   },
   {
    "duration": 118,
    "start_time": "2025-04-16T04:52:23.754Z"
   },
   {
    "duration": 121,
    "start_time": "2025-04-16T04:52:45.580Z"
   },
   {
    "duration": 932,
    "start_time": "2025-04-16T04:53:48.154Z"
   },
   {
    "duration": 121,
    "start_time": "2025-04-16T04:53:57.363Z"
   },
   {
    "duration": 5,
    "start_time": "2025-04-16T04:56:07.749Z"
   },
   {
    "duration": 185,
    "start_time": "2025-04-16T04:56:19.955Z"
   },
   {
    "duration": 181,
    "start_time": "2025-04-16T04:56:42.682Z"
   },
   {
    "duration": 386,
    "start_time": "2025-04-16T04:57:09.541Z"
   },
   {
    "duration": 190,
    "start_time": "2025-04-16T04:57:18.008Z"
   },
   {
    "duration": 192,
    "start_time": "2025-04-16T04:58:42.379Z"
   },
   {
    "duration": 189,
    "start_time": "2025-04-16T04:58:53.300Z"
   },
   {
    "duration": 123,
    "start_time": "2025-04-16T05:03:56.604Z"
   },
   {
    "duration": 134,
    "start_time": "2025-04-16T05:04:37.116Z"
   },
   {
    "duration": 128,
    "start_time": "2025-04-16T05:09:03.065Z"
   },
   {
    "duration": 221,
    "start_time": "2025-04-16T05:09:24.618Z"
   },
   {
    "duration": 123,
    "start_time": "2025-04-16T05:11:44.804Z"
   },
   {
    "duration": 184,
    "start_time": "2025-04-16T05:12:22.708Z"
   },
   {
    "duration": 130,
    "start_time": "2025-04-16T05:12:40.747Z"
   },
   {
    "duration": 121,
    "start_time": "2025-04-16T05:13:28.723Z"
   },
   {
    "duration": 219,
    "start_time": "2025-04-16T05:14:05.970Z"
   },
   {
    "duration": 260,
    "start_time": "2025-04-16T05:15:07.835Z"
   },
   {
    "duration": 234,
    "start_time": "2025-04-16T05:16:14.537Z"
   },
   {
    "duration": 288,
    "start_time": "2025-04-16T14:59:22.475Z"
   },
   {
    "duration": 15555,
    "start_time": "2025-04-16T14:59:24.751Z"
   },
   {
    "duration": 12,
    "start_time": "2025-04-16T14:59:40.308Z"
   },
   {
    "duration": 10,
    "start_time": "2025-04-16T14:59:40.322Z"
   },
   {
    "duration": 7,
    "start_time": "2025-04-16T14:59:40.334Z"
   },
   {
    "duration": 8,
    "start_time": "2025-04-16T14:59:40.343Z"
   },
   {
    "duration": 21,
    "start_time": "2025-04-16T14:59:40.353Z"
   },
   {
    "duration": 12,
    "start_time": "2025-04-16T14:59:54.508Z"
   },
   {
    "duration": 70,
    "start_time": "2025-04-16T14:59:56.869Z"
   },
   {
    "duration": 7,
    "start_time": "2025-04-16T14:59:58.872Z"
   },
   {
    "duration": 75,
    "start_time": "2025-04-16T15:00:01.807Z"
   },
   {
    "duration": 70,
    "start_time": "2025-04-16T15:00:02.641Z"
   },
   {
    "duration": 24,
    "start_time": "2025-04-16T15:00:04.011Z"
   },
   {
    "duration": 14,
    "start_time": "2025-04-16T15:00:07.330Z"
   },
   {
    "duration": 3,
    "start_time": "2025-04-16T15:00:08.045Z"
   },
   {
    "duration": 20,
    "start_time": "2025-04-16T15:00:08.824Z"
   },
   {
    "duration": 4,
    "start_time": "2025-04-16T15:00:15.314Z"
   },
   {
    "duration": 4,
    "start_time": "2025-04-16T15:00:16.260Z"
   },
   {
    "duration": 4,
    "start_time": "2025-04-16T15:00:18.526Z"
   },
   {
    "duration": 4,
    "start_time": "2025-04-16T15:00:19.302Z"
   },
   {
    "duration": 724,
    "start_time": "2025-04-16T15:00:22.250Z"
   },
   {
    "duration": 48,
    "start_time": "2025-04-16T15:00:23.020Z"
   },
   {
    "duration": 5,
    "start_time": "2025-04-16T15:00:27.236Z"
   },
   {
    "duration": 6,
    "start_time": "2025-04-16T15:00:28.834Z"
   },
   {
    "duration": 7,
    "start_time": "2025-04-16T15:00:32.530Z"
   },
   {
    "duration": 6,
    "start_time": "2025-04-16T15:00:33.897Z"
   },
   {
    "duration": 6,
    "start_time": "2025-04-16T15:00:36.254Z"
   },
   {
    "duration": 6,
    "start_time": "2025-04-16T15:00:38.576Z"
   },
   {
    "duration": 14,
    "start_time": "2025-04-16T15:00:47.513Z"
   },
   {
    "duration": 29,
    "start_time": "2025-04-16T15:00:50.339Z"
   },
   {
    "duration": 13,
    "start_time": "2025-04-16T15:00:53.646Z"
   },
   {
    "duration": 7,
    "start_time": "2025-04-16T15:00:55.960Z"
   },
   {
    "duration": 55,
    "start_time": "2025-04-16T15:00:59.656Z"
   },
   {
    "duration": 4,
    "start_time": "2025-04-16T15:01:05.226Z"
   },
   {
    "duration": 3,
    "start_time": "2025-04-16T15:01:06.087Z"
   },
   {
    "duration": 1943,
    "start_time": "2025-04-16T15:01:09.566Z"
   },
   {
    "duration": 121,
    "start_time": "2025-04-16T15:01:15.398Z"
   },
   {
    "duration": 219,
    "start_time": "2025-04-16T15:01:19.497Z"
   },
   {
    "duration": 11,
    "start_time": "2025-04-16T15:05:56.465Z"
   },
   {
    "duration": 352,
    "start_time": "2025-04-16T15:07:36.951Z"
   },
   {
    "duration": 9,
    "start_time": "2025-04-16T15:12:56.243Z"
   },
   {
    "duration": 8,
    "start_time": "2025-04-16T15:13:32.506Z"
   },
   {
    "duration": 9,
    "start_time": "2025-04-16T15:13:39.988Z"
   },
   {
    "duration": 9,
    "start_time": "2025-04-16T15:15:02.318Z"
   },
   {
    "duration": 15,
    "start_time": "2025-04-16T15:16:13.075Z"
   },
   {
    "duration": 16,
    "start_time": "2025-04-16T15:24:50.580Z"
   },
   {
    "duration": 28,
    "start_time": "2025-04-16T15:26:45.751Z"
   },
   {
    "duration": 29,
    "start_time": "2025-04-16T15:26:56.500Z"
   },
   {
    "duration": 443,
    "start_time": "2025-04-16T15:27:05.697Z"
   },
   {
    "duration": 133,
    "start_time": "2025-04-16T15:27:47.645Z"
   },
   {
    "duration": 131,
    "start_time": "2025-04-16T15:28:13.856Z"
   },
   {
    "duration": 350,
    "start_time": "2025-04-16T15:28:23.765Z"
   },
   {
    "duration": 220,
    "start_time": "2025-04-16T15:31:17.735Z"
   },
   {
    "duration": 302,
    "start_time": "2025-04-16T15:32:41.923Z"
   },
   {
    "duration": 8,
    "start_time": "2025-04-16T15:34:13.278Z"
   },
   {
    "duration": 8,
    "start_time": "2025-04-16T15:34:15.071Z"
   },
   {
    "duration": 217,
    "start_time": "2025-04-16T15:34:16.261Z"
   },
   {
    "duration": 5,
    "start_time": "2025-04-16T15:34:35.373Z"
   },
   {
    "duration": 213,
    "start_time": "2025-04-16T15:34:37.220Z"
   },
   {
    "duration": 209,
    "start_time": "2025-04-16T15:40:35.211Z"
   },
   {
    "duration": 213,
    "start_time": "2025-04-16T15:44:27.542Z"
   },
   {
    "duration": 10,
    "start_time": "2025-04-16T15:51:50.818Z"
   },
   {
    "duration": 207,
    "start_time": "2025-04-16T15:54:37.757Z"
   },
   {
    "duration": 223,
    "start_time": "2025-04-16T15:55:00.824Z"
   },
   {
    "duration": 10,
    "start_time": "2025-04-16T15:55:11.175Z"
   },
   {
    "duration": 1060,
    "start_time": "2025-04-16T15:55:32.319Z"
   },
   {
    "duration": 120,
    "start_time": "2025-04-16T15:55:57.012Z"
   },
   {
    "duration": 124,
    "start_time": "2025-04-16T15:57:35.896Z"
   },
   {
    "duration": 124,
    "start_time": "2025-04-16T15:57:42.873Z"
   },
   {
    "duration": 142,
    "start_time": "2025-04-16T15:57:54.085Z"
   },
   {
    "duration": 131,
    "start_time": "2025-04-16T15:58:02.731Z"
   },
   {
    "duration": 128,
    "start_time": "2025-04-16T15:59:03.267Z"
   },
   {
    "duration": 133,
    "start_time": "2025-04-16T15:59:42.098Z"
   },
   {
    "duration": 132,
    "start_time": "2025-04-16T16:00:11.863Z"
   },
   {
    "duration": 137,
    "start_time": "2025-04-16T16:00:32.073Z"
   },
   {
    "duration": 225,
    "start_time": "2025-04-16T16:01:27.213Z"
   },
   {
    "duration": 306,
    "start_time": "2025-04-16T16:01:44.037Z"
   },
   {
    "duration": 763,
    "start_time": "2025-04-16T16:02:10.264Z"
   },
   {
    "duration": 464,
    "start_time": "2025-04-16T16:02:21.906Z"
   },
   {
    "duration": 639,
    "start_time": "2025-04-16T16:02:31.644Z"
   },
   {
    "duration": 645,
    "start_time": "2025-04-16T16:02:48.065Z"
   },
   {
    "duration": 781,
    "start_time": "2025-04-16T16:03:03.403Z"
   },
   {
    "duration": 11,
    "start_time": "2025-04-16T16:04:53.609Z"
   },
   {
    "duration": 662,
    "start_time": "2025-04-16T16:04:57.557Z"
   },
   {
    "duration": 659,
    "start_time": "2025-04-16T16:05:45.507Z"
   },
   {
    "duration": 1055,
    "start_time": "2025-04-16T16:06:17.674Z"
   },
   {
    "duration": 73,
    "start_time": "2025-04-16T16:07:17.760Z"
   },
   {
    "duration": 1114,
    "start_time": "2025-04-16T16:07:31.664Z"
   },
   {
    "duration": 332,
    "start_time": "2025-04-16T16:08:30.296Z"
   },
   {
    "duration": 311,
    "start_time": "2025-04-16T16:08:39.901Z"
   },
   {
    "duration": 1014,
    "start_time": "2025-04-16T16:08:49.935Z"
   },
   {
    "duration": 196,
    "start_time": "2025-04-16T16:09:14.248Z"
   },
   {
    "duration": 141,
    "start_time": "2025-04-16T16:09:28.183Z"
   },
   {
    "duration": 141,
    "start_time": "2025-04-16T16:09:34.071Z"
   },
   {
    "duration": 9,
    "start_time": "2025-04-16T16:10:04.793Z"
   },
   {
    "duration": 243,
    "start_time": "2025-04-16T16:10:07.568Z"
   },
   {
    "duration": 6,
    "start_time": "2025-04-16T16:11:01.242Z"
   },
   {
    "duration": 165,
    "start_time": "2025-04-16T16:11:11.391Z"
   },
   {
    "duration": 164,
    "start_time": "2025-04-16T16:11:19.110Z"
   },
   {
    "duration": 229,
    "start_time": "2025-04-16T16:11:28.652Z"
   },
   {
    "duration": 4,
    "start_time": "2025-04-16T16:11:52.697Z"
   },
   {
    "duration": 317,
    "start_time": "2025-04-16T16:11:57.604Z"
   },
   {
    "duration": 195,
    "start_time": "2025-04-16T16:12:20.335Z"
   },
   {
    "duration": 5,
    "start_time": "2025-04-16T16:12:29.551Z"
   },
   {
    "duration": 186,
    "start_time": "2025-04-16T16:12:33.240Z"
   },
   {
    "duration": 198,
    "start_time": "2025-04-16T16:12:39.491Z"
   },
   {
    "duration": 189,
    "start_time": "2025-04-16T16:13:08.842Z"
   },
   {
    "duration": 122,
    "start_time": "2025-04-16T16:24:07.476Z"
   },
   {
    "duration": 138,
    "start_time": "2025-04-16T16:24:19.988Z"
   },
   {
    "duration": 116,
    "start_time": "2025-04-16T16:24:23.779Z"
   },
   {
    "duration": 109,
    "start_time": "2025-04-16T16:24:44.851Z"
   },
   {
    "duration": 111,
    "start_time": "2025-04-16T16:25:05.950Z"
   },
   {
    "duration": 78,
    "start_time": "2025-04-16T16:27:46.245Z"
   },
   {
    "duration": 205,
    "start_time": "2025-04-16T16:28:30.483Z"
   },
   {
    "duration": 156,
    "start_time": "2025-04-16T16:28:48.851Z"
   },
   {
    "duration": 151,
    "start_time": "2025-04-16T16:28:57.327Z"
   },
   {
    "duration": 92,
    "start_time": "2025-04-16T16:30:23.572Z"
   },
   {
    "duration": 95,
    "start_time": "2025-04-16T16:30:41.073Z"
   },
   {
    "duration": 4,
    "start_time": "2025-04-16T16:32:58.403Z"
   },
   {
    "duration": 108,
    "start_time": "2025-04-16T16:33:12.851Z"
   },
   {
    "duration": 110,
    "start_time": "2025-04-16T16:37:02.034Z"
   },
   {
    "duration": 109,
    "start_time": "2025-04-16T16:37:26.834Z"
   },
   {
    "duration": 16,
    "start_time": "2025-04-16T16:41:11.177Z"
   },
   {
    "duration": 5,
    "start_time": "2025-04-16T16:41:18.757Z"
   },
   {
    "duration": 4,
    "start_time": "2025-04-16T16:41:31.625Z"
   },
   {
    "duration": 74,
    "start_time": "2025-04-16T16:41:35.419Z"
   },
   {
    "duration": 10,
    "start_time": "2025-04-16T16:42:07.917Z"
   },
   {
    "duration": 5,
    "start_time": "2025-04-16T16:43:59.378Z"
   },
   {
    "duration": 9,
    "start_time": "2025-04-16T16:44:06.760Z"
   },
   {
    "duration": 919,
    "start_time": "2025-04-16T16:44:15.746Z"
   },
   {
    "duration": 83,
    "start_time": "2025-04-16T16:44:26.086Z"
   },
   {
    "duration": 326,
    "start_time": "2025-04-17T00:26:44.888Z"
   },
   {
    "duration": 15640,
    "start_time": "2025-04-17T00:26:46.882Z"
   },
   {
    "duration": 11,
    "start_time": "2025-04-17T00:27:02.524Z"
   },
   {
    "duration": 10,
    "start_time": "2025-04-17T00:27:02.538Z"
   },
   {
    "duration": 7,
    "start_time": "2025-04-17T00:27:02.551Z"
   },
   {
    "duration": 7,
    "start_time": "2025-04-17T00:27:02.560Z"
   },
   {
    "duration": 51,
    "start_time": "2025-04-17T00:27:02.569Z"
   },
   {
    "duration": 67,
    "start_time": "2025-04-17T00:27:37.812Z"
   },
   {
    "duration": 10,
    "start_time": "2025-04-17T00:27:39.988Z"
   },
   {
    "duration": 76,
    "start_time": "2025-04-17T00:27:44.228Z"
   },
   {
    "duration": 69,
    "start_time": "2025-04-17T00:27:46.557Z"
   },
   {
    "duration": 22,
    "start_time": "2025-04-17T00:27:47.570Z"
   },
   {
    "duration": 13,
    "start_time": "2025-04-17T00:27:51.052Z"
   },
   {
    "duration": 3,
    "start_time": "2025-04-17T00:27:51.716Z"
   },
   {
    "duration": 21,
    "start_time": "2025-04-17T00:27:52.347Z"
   },
   {
    "duration": 3,
    "start_time": "2025-04-17T00:27:56.442Z"
   },
   {
    "duration": 3,
    "start_time": "2025-04-17T00:27:57.070Z"
   },
   {
    "duration": 4,
    "start_time": "2025-04-17T00:27:59.444Z"
   },
   {
    "duration": 3,
    "start_time": "2025-04-17T00:28:00.092Z"
   },
   {
    "duration": 661,
    "start_time": "2025-04-17T00:28:03.125Z"
   },
   {
    "duration": 68,
    "start_time": "2025-04-17T00:28:04.727Z"
   },
   {
    "duration": 6,
    "start_time": "2025-04-17T00:28:10.429Z"
   },
   {
    "duration": 6,
    "start_time": "2025-04-17T00:28:13.220Z"
   },
   {
    "duration": 6,
    "start_time": "2025-04-17T00:28:15.421Z"
   },
   {
    "duration": 6,
    "start_time": "2025-04-17T00:28:17.179Z"
   },
   {
    "duration": 6,
    "start_time": "2025-04-17T00:28:20.924Z"
   },
   {
    "duration": 6,
    "start_time": "2025-04-17T00:28:31.052Z"
   },
   {
    "duration": 16,
    "start_time": "2025-04-17T00:28:34.924Z"
   },
   {
    "duration": 45,
    "start_time": "2025-04-17T00:28:37.022Z"
   },
   {
    "duration": 12,
    "start_time": "2025-04-17T00:28:39.613Z"
   },
   {
    "duration": 8,
    "start_time": "2025-04-17T00:28:42.292Z"
   },
   {
    "duration": 53,
    "start_time": "2025-04-17T00:28:46.091Z"
   },
   {
    "duration": 3,
    "start_time": "2025-04-17T00:28:52.390Z"
   },
   {
    "duration": 5,
    "start_time": "2025-04-17T00:28:53.388Z"
   },
   {
    "duration": 2104,
    "start_time": "2025-04-17T00:28:59.693Z"
   },
   {
    "duration": 119,
    "start_time": "2025-04-17T00:29:05.678Z"
   },
   {
    "duration": 220,
    "start_time": "2025-04-17T00:29:09.533Z"
   },
   {
    "duration": 9,
    "start_time": "2025-04-17T00:29:20.942Z"
   },
   {
    "duration": 7,
    "start_time": "2025-04-17T00:29:21.620Z"
   },
   {
    "duration": 5,
    "start_time": "2025-04-17T00:29:22.276Z"
   },
   {
    "duration": 211,
    "start_time": "2025-04-17T00:29:25.830Z"
   },
   {
    "duration": 10,
    "start_time": "2025-04-17T00:29:30.924Z"
   },
   {
    "duration": 181,
    "start_time": "2025-04-17T00:29:34.109Z"
   },
   {
    "duration": 78,
    "start_time": "2025-04-17T00:29:39.148Z"
   },
   {
    "duration": 6,
    "start_time": "2025-04-17T00:30:19.309Z"
   },
   {
    "duration": 10,
    "start_time": "2025-04-17T00:30:45.336Z"
   },
   {
    "duration": 465,
    "start_time": "2025-04-17T00:31:53.719Z"
   },
   {
    "duration": 1333,
    "start_time": "2025-04-17T00:32:28.988Z"
   },
   {
    "duration": 947,
    "start_time": "2025-04-17T00:32:37.388Z"
   },
   {
    "duration": 496,
    "start_time": "2025-04-17T00:32:49.014Z"
   },
   {
    "duration": 490,
    "start_time": "2025-04-17T00:33:17.901Z"
   },
   {
    "duration": 517,
    "start_time": "2025-04-17T00:34:29.733Z"
   },
   {
    "duration": 40,
    "start_time": "2025-04-17T00:34:55.277Z"
   },
   {
    "duration": 28,
    "start_time": "2025-04-17T00:34:59.247Z"
   },
   {
    "duration": 581,
    "start_time": "2025-04-17T00:35:12.825Z"
   },
   {
    "duration": 541,
    "start_time": "2025-04-17T00:35:57.116Z"
   },
   {
    "duration": 652,
    "start_time": "2025-04-17T00:36:11.429Z"
   },
   {
    "duration": 576,
    "start_time": "2025-04-17T00:39:12.044Z"
   },
   {
    "duration": 89,
    "start_time": "2025-04-17T00:40:48.333Z"
   },
   {
    "duration": 158,
    "start_time": "2025-04-17T00:41:00.532Z"
   },
   {
    "duration": 105,
    "start_time": "2025-04-17T00:41:10.701Z"
   },
   {
    "duration": 114,
    "start_time": "2025-04-17T00:42:03.570Z"
   },
   {
    "duration": 114,
    "start_time": "2025-04-17T00:42:21.996Z"
   },
   {
    "duration": 111,
    "start_time": "2025-04-17T00:43:52.014Z"
   },
   {
    "duration": 106,
    "start_time": "2025-04-17T00:44:05.686Z"
   },
   {
    "duration": 97,
    "start_time": "2025-04-17T00:45:32.861Z"
   },
   {
    "duration": 107,
    "start_time": "2025-04-17T00:45:39.997Z"
   },
   {
    "duration": 722,
    "start_time": "2025-04-17T00:49:00.341Z"
   },
   {
    "duration": 106,
    "start_time": "2025-04-17T00:49:56.293Z"
   },
   {
    "duration": 98,
    "start_time": "2025-04-17T00:52:45.515Z"
   },
   {
    "duration": 101,
    "start_time": "2025-04-17T00:53:28.877Z"
   },
   {
    "duration": 130,
    "start_time": "2025-04-17T00:54:02.933Z"
   },
   {
    "duration": 145,
    "start_time": "2025-04-17T00:55:18.644Z"
   },
   {
    "duration": 95,
    "start_time": "2025-04-17T00:55:30.492Z"
   },
   {
    "duration": 96,
    "start_time": "2025-04-17T00:56:01.220Z"
   },
   {
    "duration": 118,
    "start_time": "2025-04-17T00:56:28.669Z"
   },
   {
    "duration": 335,
    "start_time": "2025-04-17T00:57:10.568Z"
   },
   {
    "duration": 94,
    "start_time": "2025-04-17T00:57:20.712Z"
   },
   {
    "duration": 126,
    "start_time": "2025-04-17T00:59:15.952Z"
   },
   {
    "duration": 122,
    "start_time": "2025-04-17T01:01:22.592Z"
   },
   {
    "duration": 128,
    "start_time": "2025-04-17T01:01:34.549Z"
   },
   {
    "duration": 263,
    "start_time": "2025-04-17T01:01:57.773Z"
   },
   {
    "duration": 224,
    "start_time": "2025-04-17T01:02:31.662Z"
   },
   {
    "duration": 82,
    "start_time": "2025-04-17T01:10:06.754Z"
   },
   {
    "duration": 432,
    "start_time": "2025-04-17T01:11:10.264Z"
   },
   {
    "duration": 460,
    "start_time": "2025-04-17T01:11:26.064Z"
   },
   {
    "duration": 420,
    "start_time": "2025-04-17T01:12:54.653Z"
   },
   {
    "duration": 1624,
    "start_time": "2025-04-17T01:13:36.654Z"
   },
   {
    "duration": 446,
    "start_time": "2025-04-17T01:13:50.185Z"
   },
   {
    "duration": 220,
    "start_time": "2025-04-17T01:14:43.441Z"
   },
   {
    "duration": 230,
    "start_time": "2025-04-17T01:15:49.928Z"
   },
   {
    "duration": 470,
    "start_time": "2025-04-17T01:22:33.334Z"
   },
   {
    "duration": 477,
    "start_time": "2025-04-17T01:24:13.383Z"
   },
   {
    "duration": 116,
    "start_time": "2025-04-17T01:26:31.655Z"
   },
   {
    "duration": 691,
    "start_time": "2025-04-17T01:27:16.870Z"
   },
   {
    "duration": 206,
    "start_time": "2025-04-17T01:29:17.609Z"
   },
   {
    "duration": 244,
    "start_time": "2025-04-17T01:31:48.783Z"
   },
   {
    "duration": 214,
    "start_time": "2025-04-17T01:32:40.999Z"
   },
   {
    "duration": 155,
    "start_time": "2025-04-17T01:35:34.655Z"
   },
   {
    "duration": 150,
    "start_time": "2025-04-17T01:35:57.296Z"
   },
   {
    "duration": 156,
    "start_time": "2025-04-17T01:36:14.273Z"
   },
   {
    "duration": 219,
    "start_time": "2025-04-17T01:37:05.272Z"
   },
   {
    "duration": 213,
    "start_time": "2025-04-17T01:37:24.473Z"
   },
   {
    "duration": 152,
    "start_time": "2025-04-17T01:37:33.000Z"
   },
   {
    "duration": 182,
    "start_time": "2025-04-17T01:37:43.089Z"
   },
   {
    "duration": 153,
    "start_time": "2025-04-17T01:37:50.342Z"
   },
   {
    "duration": 218,
    "start_time": "2025-04-17T01:39:16.017Z"
   },
   {
    "duration": 450,
    "start_time": "2025-04-17T01:39:29.817Z"
   },
   {
    "duration": 231,
    "start_time": "2025-04-17T01:40:25.824Z"
   },
   {
    "duration": 149,
    "start_time": "2025-04-17T01:40:34.593Z"
   },
   {
    "duration": 188,
    "start_time": "2025-04-17T01:40:45.314Z"
   },
   {
    "duration": 122,
    "start_time": "2025-04-17T01:42:13.448Z"
   },
   {
    "duration": 84,
    "start_time": "2025-04-17T01:42:40.016Z"
   },
   {
    "duration": 94,
    "start_time": "2025-04-17T01:57:15.040Z"
   },
   {
    "duration": 90,
    "start_time": "2025-04-17T01:58:11.737Z"
   },
   {
    "duration": 102,
    "start_time": "2025-04-17T02:00:32.872Z"
   },
   {
    "duration": 111,
    "start_time": "2025-04-17T02:02:08.449Z"
   },
   {
    "duration": 100,
    "start_time": "2025-04-17T02:02:46.652Z"
   },
   {
    "duration": 95,
    "start_time": "2025-04-17T02:03:27.188Z"
   },
   {
    "duration": 170,
    "start_time": "2025-04-17T02:10:14.623Z"
   },
   {
    "duration": 179,
    "start_time": "2025-04-17T02:14:54.692Z"
   },
   {
    "duration": 185,
    "start_time": "2025-04-17T02:16:57.868Z"
   },
   {
    "duration": 190,
    "start_time": "2025-04-17T02:17:09.833Z"
   },
   {
    "duration": 191,
    "start_time": "2025-04-17T02:18:07.175Z"
   },
   {
    "duration": 173,
    "start_time": "2025-04-17T02:18:54.788Z"
   },
   {
    "duration": 179,
    "start_time": "2025-04-17T02:18:58.689Z"
   },
   {
    "duration": 6,
    "start_time": "2025-04-17T02:19:00.354Z"
   },
   {
    "duration": 857,
    "start_time": "2025-04-17T02:24:27.050Z"
   },
   {
    "duration": 904,
    "start_time": "2025-04-17T02:25:16.353Z"
   },
   {
    "duration": 930,
    "start_time": "2025-04-17T02:25:24.268Z"
   },
   {
    "duration": 797,
    "start_time": "2025-04-17T02:25:38.275Z"
   },
   {
    "duration": 895,
    "start_time": "2025-04-17T02:25:51.419Z"
   },
   {
    "duration": 775,
    "start_time": "2025-04-17T02:26:55.979Z"
   },
   {
    "duration": 766,
    "start_time": "2025-04-17T02:27:07.796Z"
   },
   {
    "duration": 1032,
    "start_time": "2025-04-17T02:27:24.804Z"
   },
   {
    "duration": 1061,
    "start_time": "2025-04-17T02:28:06.260Z"
   },
   {
    "duration": 1137,
    "start_time": "2025-04-17T02:28:24.508Z"
   },
   {
    "duration": 115,
    "start_time": "2025-04-17T02:32:15.187Z"
   },
   {
    "duration": 305,
    "start_time": "2025-04-17T03:24:46.638Z"
   },
   {
    "duration": 15666,
    "start_time": "2025-04-17T03:24:48.454Z"
   },
   {
    "duration": 13,
    "start_time": "2025-04-17T03:25:04.122Z"
   },
   {
    "duration": 18,
    "start_time": "2025-04-17T03:25:04.136Z"
   },
   {
    "duration": 10,
    "start_time": "2025-04-17T03:25:04.158Z"
   },
   {
    "duration": 9,
    "start_time": "2025-04-17T03:25:04.170Z"
   },
   {
    "duration": 22,
    "start_time": "2025-04-17T03:25:04.205Z"
   },
   {
    "duration": 73,
    "start_time": "2025-04-17T03:25:15.055Z"
   },
   {
    "duration": 11,
    "start_time": "2025-04-17T03:25:17.204Z"
   },
   {
    "duration": 79,
    "start_time": "2025-04-17T03:25:21.468Z"
   },
   {
    "duration": 70,
    "start_time": "2025-04-17T03:25:21.914Z"
   },
   {
    "duration": 23,
    "start_time": "2025-04-17T03:25:22.595Z"
   },
   {
    "duration": 12,
    "start_time": "2025-04-17T03:25:25.604Z"
   },
   {
    "duration": 4,
    "start_time": "2025-04-17T03:25:26.206Z"
   },
   {
    "duration": 20,
    "start_time": "2025-04-17T03:25:26.852Z"
   },
   {
    "duration": 4,
    "start_time": "2025-04-17T03:25:31.006Z"
   },
   {
    "duration": 2,
    "start_time": "2025-04-17T03:25:31.465Z"
   },
   {
    "duration": 4,
    "start_time": "2025-04-17T03:25:33.763Z"
   },
   {
    "duration": 3,
    "start_time": "2025-04-17T03:25:34.266Z"
   },
   {
    "duration": 749,
    "start_time": "2025-04-17T03:25:39.708Z"
   },
   {
    "duration": 79,
    "start_time": "2025-04-17T03:25:41.260Z"
   },
   {
    "duration": 5,
    "start_time": "2025-04-17T03:25:45.358Z"
   },
   {
    "duration": 6,
    "start_time": "2025-04-17T03:25:46.611Z"
   },
   {
    "duration": 6,
    "start_time": "2025-04-17T03:25:47.739Z"
   },
   {
    "duration": 6,
    "start_time": "2025-04-17T03:25:50.464Z"
   },
   {
    "duration": 7,
    "start_time": "2025-04-17T03:25:52.938Z"
   },
   {
    "duration": 6,
    "start_time": "2025-04-17T03:25:55.675Z"
   },
   {
    "duration": 16,
    "start_time": "2025-04-17T03:26:00.118Z"
   },
   {
    "duration": 33,
    "start_time": "2025-04-17T03:26:00.916Z"
   },
   {
    "duration": 13,
    "start_time": "2025-04-17T03:26:02.803Z"
   },
   {
    "duration": 9,
    "start_time": "2025-04-17T03:26:03.995Z"
   },
   {
    "duration": 62,
    "start_time": "2025-04-17T03:26:06.579Z"
   },
   {
    "duration": 3,
    "start_time": "2025-04-17T03:26:12.260Z"
   },
   {
    "duration": 4,
    "start_time": "2025-04-17T03:26:13.036Z"
   },
   {
    "duration": 1936,
    "start_time": "2025-04-17T03:26:16.349Z"
   },
   {
    "duration": 122,
    "start_time": "2025-04-17T03:26:19.621Z"
   },
   {
    "duration": 221,
    "start_time": "2025-04-17T03:26:27.830Z"
   },
   {
    "duration": 9,
    "start_time": "2025-04-17T03:26:32.676Z"
   },
   {
    "duration": 8,
    "start_time": "2025-04-17T03:26:33.188Z"
   },
   {
    "duration": 7,
    "start_time": "2025-04-17T03:26:33.749Z"
   },
   {
    "duration": 12,
    "start_time": "2025-04-17T03:26:41.013Z"
   },
   {
    "duration": 181,
    "start_time": "2025-04-17T03:26:42.700Z"
   },
   {
    "duration": 96,
    "start_time": "2025-04-17T03:26:46.528Z"
   },
   {
    "duration": 237,
    "start_time": "2025-04-17T03:26:51.365Z"
   },
   {
    "duration": 235,
    "start_time": "2025-04-17T03:26:56.852Z"
   },
   {
    "duration": 144,
    "start_time": "2025-04-17T03:26:57.923Z"
   },
   {
    "duration": 95,
    "start_time": "2025-04-17T03:27:06.597Z"
   },
   {
    "duration": 221,
    "start_time": "2025-04-17T03:27:11.147Z"
   },
   {
    "duration": 6,
    "start_time": "2025-04-17T03:27:12.764Z"
   },
   {
    "duration": 1155,
    "start_time": "2025-04-17T03:27:34.044Z"
   },
   {
    "duration": 95,
    "start_time": "2025-04-17T03:27:40.128Z"
   },
   {
    "duration": 355,
    "start_time": "2025-04-17T03:28:47.892Z"
   },
   {
    "duration": 101,
    "start_time": "2025-04-17T03:29:08.934Z"
   },
   {
    "duration": 1166,
    "start_time": "2025-04-17T03:29:57.389Z"
   },
   {
    "duration": 121,
    "start_time": "2025-04-17T03:30:08.782Z"
   },
   {
    "duration": 47,
    "start_time": "2025-04-17T03:30:18.389Z"
   },
   {
    "duration": 118,
    "start_time": "2025-04-17T03:30:27.902Z"
   },
   {
    "duration": 41,
    "start_time": "2025-04-17T03:31:57.671Z"
   },
   {
    "duration": 119,
    "start_time": "2025-04-17T03:32:10.980Z"
   },
   {
    "duration": 44,
    "start_time": "2025-04-17T03:32:17.013Z"
   },
   {
    "duration": 40,
    "start_time": "2025-04-17T03:33:20.469Z"
   },
   {
    "duration": 40,
    "start_time": "2025-04-17T03:37:29.854Z"
   },
   {
    "duration": 340,
    "start_time": "2025-04-17T18:56:44.963Z"
   },
   {
    "duration": 17487,
    "start_time": "2025-04-17T18:56:45.305Z"
   },
   {
    "duration": 12,
    "start_time": "2025-04-17T18:57:02.794Z"
   },
   {
    "duration": 24,
    "start_time": "2025-04-17T18:57:02.808Z"
   },
   {
    "duration": 10,
    "start_time": "2025-04-17T18:57:02.834Z"
   },
   {
    "duration": 9,
    "start_time": "2025-04-17T18:57:02.846Z"
   },
   {
    "duration": 27,
    "start_time": "2025-04-17T18:57:02.857Z"
   },
   {
    "duration": 115,
    "start_time": "2025-04-17T18:57:02.886Z"
   },
   {
    "duration": 9,
    "start_time": "2025-04-17T18:57:03.002Z"
   },
   {
    "duration": 106,
    "start_time": "2025-04-17T18:57:03.014Z"
   },
   {
    "duration": 95,
    "start_time": "2025-04-17T18:57:03.121Z"
   },
   {
    "duration": 34,
    "start_time": "2025-04-17T18:57:03.218Z"
   },
   {
    "duration": 18,
    "start_time": "2025-04-17T18:57:03.255Z"
   },
   {
    "duration": 4,
    "start_time": "2025-04-17T18:57:03.277Z"
   },
   {
    "duration": 20,
    "start_time": "2025-04-17T18:57:03.282Z"
   },
   {
    "duration": 1,
    "start_time": "2025-04-17T18:57:03.304Z"
   },
   {
    "duration": 7,
    "start_time": "2025-04-17T18:57:03.336Z"
   },
   {
    "duration": 7,
    "start_time": "2025-04-17T18:57:03.345Z"
   },
   {
    "duration": 8,
    "start_time": "2025-04-17T18:57:03.353Z"
   },
   {
    "duration": 3,
    "start_time": "2025-04-17T18:57:03.363Z"
   },
   {
    "duration": 875,
    "start_time": "2025-04-17T18:57:03.368Z"
   },
   {
    "duration": 115,
    "start_time": "2025-04-17T18:57:04.245Z"
   },
   {
    "duration": 6,
    "start_time": "2025-04-17T18:57:04.362Z"
   },
   {
    "duration": 7,
    "start_time": "2025-04-17T18:57:04.370Z"
   },
   {
    "duration": 6,
    "start_time": "2025-04-17T18:57:04.379Z"
   },
   {
    "duration": 6,
    "start_time": "2025-04-17T18:57:04.386Z"
   },
   {
    "duration": 5,
    "start_time": "2025-04-17T18:57:04.393Z"
   },
   {
    "duration": 6,
    "start_time": "2025-04-17T18:57:04.432Z"
   },
   {
    "duration": 2,
    "start_time": "2025-04-17T18:57:04.440Z"
   },
   {
    "duration": 24,
    "start_time": "2025-04-17T18:57:04.448Z"
   },
   {
    "duration": 74,
    "start_time": "2025-04-17T18:57:04.474Z"
   },
   {
    "duration": 21,
    "start_time": "2025-04-17T18:57:04.561Z"
   },
   {
    "duration": 8,
    "start_time": "2025-04-17T18:57:04.587Z"
   },
   {
    "duration": 84,
    "start_time": "2025-04-17T18:57:04.596Z"
   },
   {
    "duration": 4,
    "start_time": "2025-04-17T18:57:04.682Z"
   },
   {
    "duration": 4,
    "start_time": "2025-04-17T18:57:04.688Z"
   },
   {
    "duration": 410,
    "start_time": "2025-04-17T18:57:04.693Z"
   },
   {
    "duration": 155,
    "start_time": "2025-04-17T18:57:05.105Z"
   },
   {
    "duration": 277,
    "start_time": "2025-04-17T18:57:05.262Z"
   },
   {
    "duration": 11,
    "start_time": "2025-04-17T18:57:05.541Z"
   },
   {
    "duration": 9,
    "start_time": "2025-04-17T18:57:05.554Z"
   },
   {
    "duration": 6,
    "start_time": "2025-04-17T18:57:05.565Z"
   },
   {
    "duration": 294,
    "start_time": "2025-04-17T18:57:05.573Z"
   },
   {
    "duration": 12,
    "start_time": "2025-04-17T18:57:05.869Z"
   },
   {
    "duration": 220,
    "start_time": "2025-04-17T18:57:05.883Z"
   },
   {
    "duration": 115,
    "start_time": "2025-04-17T18:57:06.105Z"
   },
   {
    "duration": 283,
    "start_time": "2025-04-17T18:57:06.222Z"
   },
   {
    "duration": 284,
    "start_time": "2025-04-17T18:57:06.507Z"
   },
   {
    "duration": 156,
    "start_time": "2025-04-17T18:57:06.792Z"
   },
   {
    "duration": 4,
    "start_time": "2025-04-17T18:57:06.950Z"
   },
   {
    "duration": 108,
    "start_time": "2025-04-17T18:57:06.956Z"
   },
   {
    "duration": 3,
    "start_time": "2025-04-17T18:57:07.067Z"
   },
   {
    "duration": 297,
    "start_time": "2025-04-17T18:57:07.072Z"
   },
   {
    "duration": 8,
    "start_time": "2025-04-17T18:57:07.371Z"
   },
   {
    "duration": 2,
    "start_time": "2025-04-17T18:57:07.381Z"
   },
   {
    "duration": 1327,
    "start_time": "2025-04-17T18:57:07.386Z"
   },
   {
    "duration": 2,
    "start_time": "2025-04-17T18:57:08.716Z"
   },
   {
    "duration": 57,
    "start_time": "2025-04-17T18:57:08.732Z"
   }
  ],
  "colab": {
   "provenance": []
  },
  "kernelspec": {
   "display_name": "Python [conda env:base] *",
   "language": "python",
   "name": "conda-base-py"
  },
  "language_info": {
   "codemirror_mode": {
    "name": "ipython",
    "version": 3
   },
   "file_extension": ".py",
   "mimetype": "text/x-python",
   "name": "python",
   "nbconvert_exporter": "python",
   "pygments_lexer": "ipython3",
   "version": "3.12.7"
  },
  "toc": {
   "base_numbering": 1,
   "nav_menu": {},
   "number_sections": true,
   "sideBar": true,
   "skip_h1_title": true,
   "title_cell": "Table of Contents",
   "title_sidebar": "Contents",
   "toc_cell": false,
   "toc_position": {},
   "toc_section_display": true,
   "toc_window_display": false
  },
  "vscode": {
   "interpreter": {
    "hash": "01a7be9ec63e704a62cefc5fe7a4756944464ee731be31632bdf42a4cb4688cf"
   }
  }
 },
 "nbformat": 4,
 "nbformat_minor": 5
}
